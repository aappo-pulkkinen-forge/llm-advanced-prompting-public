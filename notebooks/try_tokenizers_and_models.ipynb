{
 "cells": [
  {
   "cell_type": "markdown",
   "id": "be94e6d6-4096-4d1a-aa58-5afd89f33bff",
   "metadata": {},
   "source": [
    "# Tokenizers, LLMs and heads"
   ]
  },
  {
   "cell_type": "code",
   "execution_count": 42,
   "id": "4ef8ea85-d04d-4217-99a3-21c446bf2ffa",
   "metadata": {},
   "outputs": [],
   "source": [
    "\n",
    "from transformers import (\n",
    "    AutoTokenizer,\n",
    "    AutoModelForSequenceClassification,\n",
    "    AutoModelForCausalLM\n",
    ")\n"
   ]
  },
  {
   "cell_type": "markdown",
   "id": "48a5113b",
   "metadata": {},
   "source": [
    "## Try out GPT-2 model"
   ]
  },
  {
   "cell_type": "code",
   "execution_count": 43,
   "id": "c48b0585",
   "metadata": {},
   "outputs": [
    {
     "name": "stderr",
     "output_type": "stream",
     "text": [
      "/Users/aappopulkkinen/repos/llm-finetuning-public/venv/lib/python3.12/site-packages/huggingface_hub/file_download.py:1132: FutureWarning: `resume_download` is deprecated and will be removed in version 1.0.0. Downloads always resume when possible. If you want to force a new download, use `force_download=True`.\n",
      "  warnings.warn(\n"
     ]
    }
   ],
   "source": [
    "# Load the gpt-2 tokenizer\n",
    "tokenizer = AutoTokenizer.from_pretrained(\"gpt2\")\n",
    "\n",
    "# Load the gpt-2 model with the text generation head\n",
    "gpt2_model = AutoModelForCausalLM.from_pretrained(\"gpt2\")"
   ]
  },
  {
   "cell_type": "markdown",
   "id": "2321385d",
   "metadata": {},
   "source": [
    "### Try out the loaded tokenizer"
   ]
  },
  {
   "cell_type": "code",
   "execution_count": 44,
   "id": "413e90cb",
   "metadata": {},
   "outputs": [
    {
     "name": "stdout",
     "output_type": "stream",
     "text": [
      "Encoded input:\n",
      "[464, 749, 1593, 1517, 287, 1204, 318]\n",
      "\n",
      "Encoded input with tokenizer callable:\n",
      "{'input_ids': [464, 749, 1593, 1517, 287, 1204, 318], 'attention_mask': [1, 1, 1, 1, 1, 1, 1]}\n",
      "\n",
      "Decoded input:\n",
      "The most important thing in life is\n"
     ]
    }
   ],
   "source": [
    "# Encoding can be done with encode method or via calling the tokenizer callable\n",
    "input_text = \"The most important thing in life is\"\n",
    "encoded_input = tokenizer.encode(input_text)\n",
    "\n",
    "print(\"Encoded input:\")\n",
    "print(encoded_input)\n",
    "print(\"\\nEncoded input with tokenizer callable:\")\n",
    "print(tokenizer(input_text))\n",
    "\n",
    "# Decoding can be done with the decode method\n",
    "# When decoding the encoded input, the tokenizer should return the original text.\n",
    "print(\"\\nDecoded input:\")\n",
    "print(tokenizer.decode(encoded_input))"
   ]
  },
  {
   "cell_type": "markdown",
   "id": "9fbaddba",
   "metadata": {},
   "source": [
    "### Try out the loaded model"
   ]
  },
  {
   "cell_type": "code",
   "execution_count": 45,
   "id": "2b0463f5",
   "metadata": {},
   "outputs": [
    {
     "name": "stderr",
     "output_type": "stream",
     "text": [
      "Setting `pad_token_id` to `eos_token_id`:50256 for open-end generation.\n"
     ]
    },
    {
     "name": "stdout",
     "output_type": "stream",
     "text": [
      "Model output tokens:\n",
      "tensor([ 464,  749, 1593, 1517,  287, 1204,  318,  284,  307, 1498,  284,  466,\n",
      "        1223,  326,  345, 1842,   13])\n",
      "\n",
      "Model output decoded:\n",
      "The most important thing in life is to be able to do something that you love.\n"
     ]
    }
   ],
   "source": [
    "# Inference can be done by calling .generate method of the model\n",
    "model_output = gpt2_model.generate(**tokenizer(input_text, return_tensors=\"pt\"), max_new_tokens=10)\n",
    "print(\"Model output tokens:\")\n",
    "print(model_output[0])\n",
    "print(\"\\nModel output decoded:\")\n",
    "print(tokenizer.decode(model_output[0]))\n"
   ]
  },
  {
   "cell_type": "markdown",
   "id": "b916ac69",
   "metadata": {},
   "source": [
    "### TODO\n",
    "The above output was somewhat reasonable with GPT-2 model. What if you increase the number of `max_new_tokens`.\n",
    "\n",
    "Try it out."
   ]
  },
  {
   "cell_type": "markdown",
   "id": "e05d0fb4",
   "metadata": {},
   "source": [
    "## Try out a model trained for classification"
   ]
  },
  {
   "cell_type": "markdown",
   "id": "8cdee050",
   "metadata": {},
   "source": [
    "ProsusAI/finbert:\n",
    "\n",
    "\"FinBERT is a pre-trained NLP model to analyze sentiment of financial text. It is built by further training the BERT language model in the finance domain, using a large financial corpus and thereby fine-tuning it for financial sentiment classification.\"\n"
   ]
  },
  {
   "cell_type": "code",
   "execution_count": 46,
   "id": "d2944f2c",
   "metadata": {},
   "outputs": [],
   "source": [
    "# Load the finbert tokenizer\n",
    "finbert_tokenizer = AutoTokenizer.from_pretrained(\"ProsusAI/finbert\")\n",
    "\n",
    "# Load the finbert model with the text generation head\n",
    "finbert_model = AutoModelForSequenceClassification.from_pretrained(\"ProsusAI/finbert\")"
   ]
  },
  {
   "cell_type": "markdown",
   "id": "9bb88c39",
   "metadata": {},
   "source": [
    "### TODO\n",
    "Try out the finbert model.\n",
    "\n",
    "Notice that calling the model happens now with model callable, not with .generate method, and `max_new_tokens` input parameters does not exist."
   ]
  },
  {
   "cell_type": "code",
   "execution_count": 47,
   "id": "150b49e3",
   "metadata": {},
   "outputs": [
    {
     "name": "stdout",
     "output_type": "stream",
     "text": [
      "Model output (softmax for positive, negative, neutral):\n",
      "tensor([[-1.7899,  2.5756,  0.2115]], grad_fn=<AddmmBackward0>)\n"
     ]
    }
   ],
   "source": [
    "input_text = \"Top private equity firms put brakes on China dealmaking\"\n",
    "model_output = finbert_model(**finbert_tokenizer(input_text, return_tensors=\"pt\"))\n",
    "print(\"Model output (softmax for positive, negative, neutral):\")\n",
    "print(model_output[0])\n"
   ]
  },
  {
   "cell_type": "markdown",
   "id": "92f9dc25",
   "metadata": {},
   "source": [
    "### TODO\n",
    "\n",
    "If you have time, search Huggingface for some model that looks interesting and try it out. You can also use th Huggingface portal \"Inference API\" directly if you want."
   ]
  }
 ],
 "metadata": {
  "kernelspec": {
   "display_name": "Python 3 (ipykernel)",
   "language": "python",
   "name": "python3"
  },
  "language_info": {
   "codemirror_mode": {
    "name": "ipython",
    "version": 3
   },
   "file_extension": ".py",
   "mimetype": "text/x-python",
   "name": "python",
   "nbconvert_exporter": "python",
   "pygments_lexer": "ipython3",
   "version": "3.12.2"
  }
 },
 "nbformat": 4,
 "nbformat_minor": 5
}
