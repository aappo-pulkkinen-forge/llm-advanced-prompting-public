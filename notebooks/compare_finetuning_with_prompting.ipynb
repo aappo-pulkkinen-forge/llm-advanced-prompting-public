{
 "cells": [
  {
   "cell_type": "markdown",
   "metadata": {},
   "source": [
    "## Compare different models for same tasks\n",
    "\n",
    "1. Use finetuned classification model and compare it's output with general purpose model with prompting\n",
    "2. Same with summarization"
   ]
  },
  {
   "cell_type": "code",
   "execution_count": null,
   "metadata": {},
   "outputs": [],
   "source": [
    "%pip install datasets\n",
    "%pip install openai\n",
    "%pip install scikit-learn"
   ]
  },
  {
   "cell_type": "code",
   "execution_count": 1,
   "metadata": {},
   "outputs": [
    {
     "name": "stderr",
     "output_type": "stream",
     "text": [
      "/Users/aappopulkkinen/repos/llm-advanced-prompting-public/venv/lib/python3.12/site-packages/tqdm/auto.py:21: TqdmWarning: IProgress not found. Please update jupyter and ipywidgets. See https://ipywidgets.readthedocs.io/en/stable/user_install.html\n",
      "  from .autonotebook import tqdm as notebook_tqdm\n"
     ]
    }
   ],
   "source": [
    "from datasets import load_dataset\n",
    "from openai import AzureOpenAI\n",
    "from sklearn.metrics import accuracy_score\n",
    "from transformers import pipeline"
   ]
  },
  {
   "cell_type": "markdown",
   "metadata": {},
   "source": [
    "### Load dataset\n",
    "\n",
    "We load a dataset containing Imdb reviews with the review sentiment. Each review is labelled with `0` and `1` where `0` denotes negative review sentiment and `1` positive review sentiment."
   ]
  },
  {
   "cell_type": "code",
   "execution_count": 2,
   "metadata": {},
   "outputs": [
    {
     "name": "stderr",
     "output_type": "stream",
     "text": [
      "Downloading readme: 100%|██████████| 7.81k/7.81k [00:00<00:00, 50.8kB/s]\n"
     ]
    },
    {
     "data": {
      "text/plain": [
       "DatasetDict({\n",
       "    train: Dataset({\n",
       "        features: ['text', 'label'],\n",
       "        num_rows: 25000\n",
       "    })\n",
       "    test: Dataset({\n",
       "        features: ['text', 'label'],\n",
       "        num_rows: 25000\n",
       "    })\n",
       "    unsupervised: Dataset({\n",
       "        features: ['text', 'label'],\n",
       "        num_rows: 50000\n",
       "    })\n",
       "})"
      ]
     },
     "execution_count": 2,
     "metadata": {},
     "output_type": "execute_result"
    }
   ],
   "source": [
    "# Load Imdb dataset from Hugging Face\n",
    "dataset = load_dataset(\"stanfordnlp/imdb\")\n",
    "dataset"
   ]
  },
  {
   "cell_type": "markdown",
   "metadata": {},
   "source": [
    "## TODO\n",
    "\n",
    "Check that you understand what the dataset contains. Hint: Dataset is a dictionary, so chechk the content with `dataset[\"train\"]` etc."
   ]
  },
  {
   "cell_type": "markdown",
   "metadata": {},
   "source": [
    "## Try Azure OpenAI model deployment\n",
    "\n",
    "Next we'll try out a model that is deployed behind an Azure OpenAI API endpoint. The model is an instruct finetuned GPT-3.5 Turbo model and we call it here by using the Python SDK."
   ]
  },
  {
   "cell_type": "code",
   "execution_count": 9,
   "metadata": {},
   "outputs": [
    {
     "name": "stdout",
     "output_type": "stream",
     "text": [
      "Prompt: Write a tagline for an consulting company excelling in using LLMs. \n",
      "Response: \n",
      "\n",
      "\"Transforming businesses through the power of LLMs.\"\n"
     ]
    }
   ],
   "source": [
    "api_key = \"api-key\" # TODO: change this to the Azure OpenAI API key\n",
    "\n",
    "deployment_name=\"gpt-35-turbo-instruct\"\n",
    "\n",
    "client = AzureOpenAI(\n",
    "    api_key=api_key,  \n",
    "    api_version=\"2023-03-15-preview\",\n",
    "    azure_endpoint = f\"https://learning-sprint-openai.openai.azure.com/openai/deployments/{deployment_name}/completions?api-version=2023-03-15-preview\"\n",
    "    )\n",
    "    \n",
    "\n",
    "prompt = 'Write a tagline for an consulting company excelling in using LLMs. '\n",
    "response = client.completions.create(model=deployment_name, prompt=prompt, max_tokens=20)\n",
    "\n",
    "print(f\"Prompt: {prompt}\")\n",
    "print(f\"Response: {response.choices[0].text}\")"
   ]
  },
  {
   "cell_type": "markdown",
   "metadata": {},
   "source": [
    "## Classification through prompting\n",
    "\n",
    "Let's see how well the GPT-3.5 model is able to do simple text classification when prompted.\n",
    "\n",
    "First let's defined two auxiliary functions. First one generates the prompt when given a text:\n",
    "\n",
    "`\"Task: Classify text into negative or positive classes. Text: Some example text with positive sentiment\".`\n",
    "\n",
    "The second one encodes the model output into integers that correspond to the dataset labels, i.e. `0 = negative sentiment` and `1 = positive sentiment`."
   ]
  },
  {
   "cell_type": "code",
   "execution_count": 65,
   "metadata": {},
   "outputs": [],
   "source": [
    "def prompt(text, classes=[\"negative\",\"positive\"]):\n",
    "    if len(classes)>2:\n",
    "        return \"Task: Classify the text into \" + \", \".join(classes[:-1]) + f\" or {classes[-1]} classes. Text: {text}\"\n",
    "    elif len(classes)==2:\n",
    "        return f\"Task: Classify the text into {classes[0]} or {classes[1]} classes. Text: {text} \"\n",
    "\n",
    "def encode_response(response, classes=[\"negative\",\"positive\"]):\n",
    "    response_string = response.choices[0].text.lower()\n",
    "    matches = [c in response_string for c in classes]\n",
    "    if sum(matches) != 1:\n",
    "        print(f\"Invalid response: {response_string}\")\n",
    "        return -1\n",
    "    return matches.index(True)\n"
   ]
  },
  {
   "cell_type": "markdown",
   "metadata": {},
   "source": [
    "## TODO \n",
    "\n",
    "Make sure you understand the above functions."
   ]
  },
  {
   "cell_type": "markdown",
   "metadata": {},
   "source": [
    "## Classification accuracy\n"
   ]
  },
  {
   "cell_type": "code",
   "execution_count": 68,
   "metadata": {},
   "outputs": [
    {
     "name": "stdout",
     "output_type": "stream",
     "text": [
      "\n",
      "text: Utterly ridiculous movie which makes fun of the college admission process. While it is true that the SAT's is not everything in evaluating a student for admission to college, what the movie talks about is utterly ridiculous and not worth repeating nor viewing.<br /><br />College admissions officials are made to look like stupid people who have an extremely narrow view of the entire process. The film is an insult to hard-working high school students who work hard and then have to suffer through a long process until they receive that letter of acceptance or rejection from the schools they have applied for. <br /><br />This movie certainly deserves rejection on all levels.\n",
      "true_label 0\n",
      "response 0\n",
      "\n",
      "text: Hi guys, this is my first review and I would had to have picked the worst movie to review. As I only watched 5 minutes of it but trust me you could see this movie was going nowhere. The acting was deplorable, the camera work and lighting looked as though it was shot and run by a pack of 10 year old's. No offence to 10 year olds.I just couldn't take anymore I got off my couch, took the The House of Adam DVD out of the DVD player and threw it in the garbage. Maybe if you are a Colin Farrell fan this movie may interest you, because the character in the movie, Anthony, is a Colin Farrell look a like. But that is as far as it goes, he certainly will never have col's acting abilities. I gave this movie a rating of 1 (awful) only because there were no minuses in the drop down list cheers.\n",
      "true_label 0\n",
      "response 0\n",
      "\n",
      "text: Eight Legged Freaks is a modern monster movie, like a remake of any of the old 'Attack of the giant [INSERT ANIMAL HERE]'-movies of the 50s, 60s and 70s. Or rather, it should have been more like a remake of the, instead of what is was. So, how is a monster movie done in the year 2002? Well, from the typical opening with some chemical making the spiders grow to huge proportions, they mix movies like Gremlins, Jurassic Park, Starship Troopers and flavor it with some parody like Scary Movie. Gremlins is probably the best comparison, but Eight Legged Freaks was so full of parodies and stupid jokes that it was sometimes more like Scary Movie. It was way too much, at least if you're looking for a monster movie and not just another parody movie filled with jokes.<br /><br />For a movie like this you don't expect much of the acting, and that is just the way it was. The story though was extremely thin, with just a bunch of loosely connected events to show off some action mixed with all of the jokes, leading up to an easily spotted and corny ending.<br /><br />I rate Eight Legged Freaks a 4/10, and that includes the fact that the special effects where pretty good and that the noises the spiders made where hilarious.\n",
      "true_label 0\n",
      "response 0\n",
      "\n",
      "text: I wanted to see this movie because I am a very huge Abbott and Costello fan, and when I saw it, I liked it.<br /><br />This movie is funny, not hysterical, but funny. I mean I laughed at a lot of the funny parts and I just plain enjoyed it.<br /><br />Though it is not of the best of the Perfect Straight Man and the Perfect Buffoon, you should see this if you really love Abbott and Costello.<br /><br />Out of all of the Abbott and Costello movies that I have seen, I can't say I've seen one that I hated. This is decent, funny, and entertaining. Abbott and Costello at least made some pretty decent movies in their later years.<br /><br />All in all, I liked this movie, it is not one of their best ones, but I liked it.<br /><br />7/10\n",
      "true_label 1\n",
      "response 1\n",
      "\n",
      "text: I thought Rachel York was fantastic as \"Lucy.\" I have seen her in \"Kiss Me, Kate\" and \"Victor/Victoria,\" as well, and in each of these performances she has developed very different, and very real, characterizations. She is a chameleon who can play (and sing) anything!<br /><br />I am very surprised at how many negative reviews appear here regarding Rachel's performance in \"Lucy.\" Even some bonafide TV and entertainment critics seem to have missed the point of her portrayal. So many people have focused on the fact that Rachel doesn't really look like Lucy. My response to that is, \"So what?\" I wasn't looking for a superficial impersonation of Lucy. I wanted to know more about the real woman behind the clown. And Rachel certainly gave us that, in great depth. I also didn't want to see someone simply \"doing\" classic Lucy routines. Therefore I was very pleased with the decision by the producers and director to have Rachel portray Lucy in rehearsal for the most memorable of these skits - Vitameatavegamin and The Candy Factory. (It seems that some of the reviewers didn't realize that these two scenes were meant to be rehearsal sequences and not the actual skits). This approach, I thought, gave an innovative twist to sketches that so many of us know by heart. I also thought Rachel was terrifically fresh and funny in these scenes. And she absolutely nailed the routines that were recreated - the Professor and the Grape Stomping, in particular. There was one moment in the Grape scene where the corner of Rachel's mouth had the exact little upturn that I remember Lucy having. I couldn't believe she was able to capture that - and so naturally.<br /><br />I wonder if many of the folks who criticized the performance were expecting to see the Lucille Ball of \"I Love Lucy\" throughout the entire movie. After all, those of us who came to know her only through TV would not have any idea what Lucy was really like in her early movie years. I think Rachel showed a natural progression in the character that was brilliant. She planted all the right seeds for us to see the clown just waiting to emerge, given the right set of circumstances. Lucy didn't fit the mold of the old studio system. In her frustrated attempts to become the stereotypical movie star of that era, she kept repressing what would prove to be her ultimate gifts.<br /><br />I believe that Rachel deftly captured the comedy, drama, wit, sadness, anger, passion, love, ambition, loyalty, sexiness, self absorption, childishness, and stoicism all rolled into one complex American icon. And she did it with an authenticity and freshness that was totally endearing. \"Lucy\" was a star turn for Rachel York. I hope it brings a flood of great roles her way in the future. I also hope it brings her an Emmy.\n",
      "true_label 1\n",
      "response 1\n",
      "\n",
      "text: There is a complete copy now available at the Internet Archive - watch it or download it today!<br /><br />http://www.archive.org/details/The_Mascot_Complete<br /><br />One of the greatest animated shorts ever made. Starewicz is endlessly inventive and his techniques still astound animation fans 70 years later. We may have computer-generated techniques now, but all he had in 1934 was an imagination that wouldn't take \"no\" for an answer. Whatever he wanted to see on the screen, he created. <br /><br />And he wanted to see some truly bizarre stuff - every imaginable piece of scrap is called up for service: old shoes, chicken bones, utensils, broken glasses, dolls, monkeys, rats....seems like there was nothing that was off limits.<br /><br />A truly eerie, even unsettling film that should be seen by anyone with even a passing interest in animation. This film must be seen to be believed!\n",
      "true_label 1\n",
      "response 1\n",
      "\n",
      "text: This review contains some small, yet significant, spoilers.<br /><br />---<br /><br />I just finished watching my copy of Noroi...<br /><br />...and it was GREAT! This might sound cheesy, but several times during the film I forgot it wasn't real XD The acting is convincing, although the acting from Masafumi Kobayashi (playing himself, I think...) seems a bit hokey at times. Marika Matsumoto (Yuka in Takashi Shimizu's Rinne) seemed to change levels of believability throughout the movie: sometimes she's REALLY good, then the next moment she's really cheesy (especially at the end's exorcism and subsequent re-possession.<br /><br />A character that was ridiculous at first was Mr. Hori, a man covered in tinfoil believing \"ectoplasmic worms\" are coming to eat everyone. He provides unintentional comic relief at the beginning (acting like the stereotypical alien abduction-type victim) but near the end has some really creepy scenes.<br /><br />The plot was very interesting and really kept me wondering how everything tied together. There are some things that aren't really explained (like a mass suicide in a Tokyo park and where the reincarnated Kagutaba-boy came from) but everything else turned out fine. The ending has GOT to be one of the most unnerving, if not the scariest, sequences I've ever had the pleasure to witness.<br /><br />All in all, Noroi is a very fun way to spend 2 hours and the new Hong Kong R3 DVD provides great picture and sound (most importantly the English SUBTITLES- Engrish free!) for a great J-Horror experience. I highly recommend picking it up.\n",
      "true_label 1\n",
      "response 1\n",
      "\n",
      "text: If you liked Lock, Stock and Two Smoking Barrels, the chances are you'll like this, too. Although I guess a few of the British in-jokes (like calling two London characters Dixon and Winterburn, after Arsenal soccer players) may be lost on some, this is still cracking entertainment, which veritably pumps with vitality.<br /><br />Carlyle, Miller and Tyler are all excellent, bringing depth to their characters, and the interplay between the two protagonists is always well-judged. In fact Scott's direction is very assured, considering that this is his first feature film, and proves that he has his father's talent for putting us at ease in unfamiliar surroundings.<br /><br />Hell, I've convinced myself. I'm gonna see it again!\n",
      "true_label 1\n",
      "response 1\n",
      "\n",
      "text: When one thinks of Soviet cinema, the propaganda masterpieces of Eisenstein or the somber meditations of Tarkovsky generally come to mind. They're great films sure, but generally not the most entertaining material out there. However, the countries within the Iron Curtain apparently enjoyed their escapist musicals just as much as the states had. In fact, from the 1930s up until the 70s, forty of these song-and-dance extravaganzas were released to much adoration by the public. However, they are completely unheard of in the West, so this documentary attempts to rectify that situation. It does a terrific job of both showcasing these films and putting them into the proper cultural context. Despite the fact I've never been a fan of musicals, I found this documentary to be completely compelling from beginning to end. It goes to prove that, no matter how many films you manage to see in your lifetime, you're only skimming the surface of whats out there.<br /><br />As for the film clips themselves, they're very entertaining. While some of the musicals are blatant propaganda showing workers singing of how much they love working under the regime, some of the films (particularly the later ones) look quite accomplished from a production standpoint. Plus, they are all extremely campy because of how alien they are to my western eyes. There's a few similarities between them and the American musicals I'm used to, but the presence of strict government enforcing of a message gives them a surreal edge. They certainly don't resemble the musicals made in the West. This documentary is both one of the most bizarre and entertaining films I've seen in recent memory, and its an absolute must-see for any film buff. (9/10)\n",
      "true_label 1\n",
      "response 1\n",
      "\n",
      "text: ^^contains spoilers^^<br /><br />This movie is utter crap. Do not watch.<br /><br />There is no one in this movie to root for, or even like, except for the wife, and she wins by default. Everyone is selfish, and many things happen that make no sense.<br /><br />The acting is mediocre at best and everyone breathes too heavily about everything. No one can even cry believably.<br /><br />If you leave the room for even a second, then something totally out of left field will happen, and it will make NO SENSE WHATSOEVER.<br /><br />For example, I left the room for a second, while Jennie Garth's character was sleeping with her manager. I come back, seriously about 4 minutes later, (also I'm pretty sure there was a commercial somewhere in there) and she's sleeping with that Berko guy. <br /><br />I gave up on this movie around the time that Berko was being an ass to his fiancé in the car, because she didn't want to call off the wedding.<br /><br />I wasted 2 hours of my life. You shouldn't.\n",
      "true_label 0\n",
      "response 0\n",
      "\n",
      "text: I thought Anywhere But Here was a good movie.It stars two wonderful actresses, Susan Sarandon and Natlie Portman, which when I heard they were in a movie together I resist watching it.Overall, it was a pretty enjoyable movie.It had it's moments where I felt as if they tried to hard, and there was also some really overdone and worn-out material, but there wasn't anything in the movie that I absolutely hated.I even liked how they used the pop-up performance of the uncredited Thora Birch, and all the little happy/sad moments are touching and effective.If you want to watch this movie, go ahead, because even though I don't recommend it, it's not something you should avoid, and a 5.9 rating seems unfair in my opinion.\n",
      "true_label 1\n",
      "response 1\n",
      "\n",
      "text: ROCK STAR is a well-told Hollywood-style rendition of the tale based on fact actually on how Ripper became Rob Halford's replacement for Judas Priest. Mark Wahlberg poured on his likable boy-ish charm and performed with believable admirably, something he has been known to do since the release of BOOGIE NIGHTS.<br /><br />Stephen Herek, no stranger to musically-themed movies, takes the audience through the wonders of the breakneck lifestyle of an extinct species, the Hair-Metal Rock God. Wahlberg's \"Izzy\" acts as the film's host plays the everyman who gets to see his wish come true. His likable character quickly wins over the heart of the viewer, who wants to see him succeed and gets the chance to give him the Metal \"goat horn\" hand-sign several times over.<br /><br />The only real complaint with the story is that the supporting cast, namely the other members of the band, were not fleshed out, or even introduced, properly. More interaction with these life-long Rock musicians would have amplified and solidified Izzy's new surroundings. <br /><br />Naturally, ROCK STAR is filled with great music. Rabin's score, the Steel Dragon's original work and plenty of 80's-style Metal hits makes this soundtrack a must-have! Let's all hope that films like ROCK STAR not only give a credibility to a style of music that helped define a generation but also spark a very-needed revival.\n",
      "true_label 1\n",
      "response 1\n",
      "\n",
      "text: This episode of Charmed changed everything! The show is about to end it's third season, and all hell IS breaking loose in this episode. The Charmed ones bring an Innocent named Dr. Griffiths to the manor the protect him from Shax, The Sources assassin. When Shax attacks, he blasts in as a tornado and then corporealizes into his demon skin. He blasts Prue threw a wall which totally knocks her out and practically kills her. Then blasts Piper threw what is left of the wall. Phoebe comes from the attic and says the vanquishing spell before Shax came kill the doctor. But being the Power of One, it just wounds him.Leo comes to heal the other sisters and Prue wants to find Shax and destroy him for real. Phoebe, meanwhile is in the Underworld trying to find Cole.When Prue and Piper go out into the street to find the demon, the demon finds them. After their battle, the witches realize that a camera caught everything! When they get back to Manor trying to battle the media and after they vanquished Shax, a a witch gone kookoo shoots Piper. Prue uses her telekinesis to move people out of the way so she can get to the hospital. But they get their to late and Piper dies. And just when Prue is about to get shot, time is rewound to where they bring Dr. Griffiths to the Manor. Shax blows in and blasts Prue and Piper. But Phoebe is still in the Underworld so Shax kills the doctor and blasts out of the Manor. When Leo finally comes, he can't heal Prue. Prue is dead and so is the Power of Three. For Now. Personally. this episode was sad. Prue was the strongset of all of them. I would love to have her power of telekinesis. i really don't think Phoebe should of went to the Underworld because if she didn't, Shax wouldn't have killed Prue. But Paige brings The Power of Three together again and I'm happy with the show's progress\n",
      "true_label 1\n",
      "response 1\n",
      "\n",
      "text: This is one of the dumbest ideas for a movie. Remake a classic film shot-by-shot. I hope nobody tries this technique again. In 1998, \"Good Will Hunting\" director Gus Van Sant tried it by remaking Hitchcock's 1960 classic \"Psycho\" and failed miserably. What on earth was Van Sant thinking of? This remake doesn't even come close to topping the original. The few changes that were made here were no help. If you want to see \"Psycho\", the choice is obvious. See the original.<br /><br />* (out of four)\n",
      "true_label 0\n",
      "response 0\n",
      "\n",
      "text: There must have been a lot of background info that was left out of the movie. In fact, in the film, the girl, Lizzy, didn't even appear depressed. She just seemed like a girl that went out of control when she finally got to college, mainly from doing drugs and drinking alcohol. That seemed to be her problem, not mental illness. Sure, she had emotional problems because her dad left and she barely saw him as a child, and her mom seemed a little out there. But, the way she treated Noah and Ruby was just mean and I don't think caused by depression. She was very needed, which ran Rafe off, but she was like that because of her dad.<br /><br />But, I think the main reason this movie never achieved a theater release is that not enough happens with the plot and the story is not written well.<br /><br />FINAL VERDICT: Truthfully, I'd only recommend this if you are interested in seeing Ricci's first nude scene. Otherwise, it isn't very interesting.\n",
      "true_label 0\n",
      "response 0\n",
      "\n",
      "text: A film to divide its viewers. Just criticism points at its funereal pace, over-used snap zooms and persistent, lingering gazes between the protagonists. Advocates point to Dirk Bogarde's mighty performance and Pasqualino De Santis' benchmark photography of Venice.<br /><br />Taken altogether, this might suggest an indulgent, romanticised elegy for the nobility of homosexual love (at a time, 1971, when it was becoming consensually legal). In fact Visconti has succeeded in making a richer, more complex film than such a single-issue vehicle. He has knit his ideas - foibles and all - into a meticulously paced arc.<br /><br />Inside this does indeed sit the central performance of Bogarde's Aschenbach. Rather than a simpering, Johnny-come-lately gay, he manages to give a pathetic composer beaten by tragedy and misunderstood integrity who sees salvation in Tadzio. His mesmerised staggering around an increasingly hellish Venice after the boy is a straight metaphor for the artist's tenacity for truth in the teeth of the dilettante mob (and it is explicitly cut with such a flashback).<br /><br />Mahler's music is possibly a little over-used although it is well appropriated. The Italian overdub is a wearing anachronism but thankfully the acting doesn't suffer too much. 7/10\n",
      "true_label 1\n",
      "response 0\n",
      "\n",
      "text: To most of us, life is an unfolding process of love. For others like Soo-mi, however, it is dominated by darkness and fear. Based on the Korean folk tale Jangha and Hongryun, Kim Ji-woon's brilliant Gothic horror story A Tale of Two Sisters revolves around two sisters, Soo-mi (Lim Su-jeong), and Soo-yeon (Mun Geon-yeong), who are part of a dysfunctional family that live together in a creepy Victorian-style mansion. Feeling alienated from the world, they cling to each other for survival with the older Soo-mi obsessively protecting the younger Soo-yeon against danger. For Soo-mi, however, not coming to terms with the circumstances surrounding her mother's death means mental illness and a mind at odds with reality.<br /><br />While we may recognize staples such as haunted houses with apparitional sightings, doors that open and close on their own, a cruel and overbearing stepmother, and other events of high strangeness, A Tale of Two Sisters superbly explores deeper psychological meanings including the inability to let go of inner demons and the misplaced desire for revenge. Soo-mi says \"Do you know what's really scary? You want to forget something. Totally wipe it off your mind. But you never can. It can't go away, you see. And... and it follows you around like a ghost.\" There is a time line but it is left for the viewer to unravel. The plot cannot be summarized, only suggested and the film keeps us wondering whether what is happening on screen is objective or subjective.<br /><br />In the film's opening, Soo-mi, an obviously disturbed young woman, is being questioned by a doctor in a setting that looks like a mental institution. When the doctor asks her to describe what happened \"that day\", the film flashes back to when Soo-mi and Soo-Yeon return to the home of their father Moo-hyeon (Kim Kap-su) and stepmother Eun-joo (Yum Jung-ah). The stepmother is hostile and resentful and the father is passive and distant but it is obvious that it is Soo-mi who is really hurting. As the girls try to readjust, they are constantly frightened by a presence in the house, which may be nightmares or supernatural occurrences.<br /><br />Soo-mi sees a figure at the foot of her bed that hovers over her and oozes black blood, a dinner scene in which the guest apparently sees a ghost hiding under the sink and goes into convulsions, a monster emerges from between the legs of one of the sisters, people mysteriously disappear from photographs, and many other maniacal schizophrenic devices to keep the viewer dangling on the edge of insanity. While we sense that much of the story is the projection of someone's mind, we do not know whose and the film keeps us constantly challenged, at least until an important clue is offered in the film's second half.<br /><br />Shot in gorgeous low-light cinematography, A Tale of Two Sisters has a unique elegance and other worldly beauty that transcends all the scares, and there are plenty. It is haunting in more than one sense of the word and its images may stare back at you when you least expect or want them to. While the film may not offer the weary traveler much in the way of light, it shows us where we can end up if we opt for the darkness. In the words of a wise observer, \"Blame is never the answer - whether it is blaming yourself or others. Rather, the answer lies in stepping out of judgment entirely - both of yourself AND others. Forgiveness and understanding have great power of healing.\"\n",
      "true_label 1\n",
      "response 0\n",
      "\n",
      "text: With such a promising cast and a director that I have heard great things about, I was utterly disappointed by this film. It started off with signs of a great epic gangster tale and turned into a completely muddled mess with many unanswered questions and some completely ridiculous and pointless scenes.(and yes I did watch the full length version). I love Robert DeNiro and as usual he did a fine acting job, but in all his other gangster films, no matter how many people he kills, I always still had respect for his character, but in this movie he was a lowlife drug-addict, rapist with no care for anyone but himself. Also, James Woods, another fine actor, had some completely ridiculous scenes written for him. I thought the parts where Robert DeNiro called him crazy and he flipped out came completely out of left-field and towards the end the writers just throw in this random comment about how his father died in a nut house and that's why James Woods didn't like being called crazy. So much was left undeveloped in this movie. Also, we never find out who the men are in the beginning that are trying to kill Noodles and we never find out more about Joe Pesci's character. It seems that the writers threw together about five different stories and never fully explained any of them. The only redeeming quality of the film was the story when the characters were young kids. The story ran smoothly in this part of the movie and the kids did a great acting job. Overall, I was thoroughly disappointed by this movie and I don't see how anyone can even compare this to the Godfather 1 and 2, or even Goodfellas. I am sad that I wasted four hours of my life watching this film\n",
      "true_label 0\n",
      "response 0\n",
      "\n",
      "text: First of all, this is an art film and a good one at that. I loved the presentation and way it was shot. Very cool. Certain scenes were some of the more graphic horror sequences I've ever seen. This film did scare me, not because of suspense or shock, but because I was deathly afraid that I'd soon see something REALLY appalling. That did happen in a few places, but mostly at the beginning. This film also dragged and the 74 minutes seemed long. However, if you're into film you have to see this. To date, I've seen nothing like it. 8/10\n",
      "true_label 1\n",
      "response 1\n",
      "\n",
      "text: Ocean's Twelve: just plain stupid, bad and nothing compared to the other two.<br /><br />An art robbery. 10 known actors, at least. A weak script and very slow developing idea. That's why I characterize a movie I only saw at least 20 minutes of it. Don't get me wrong, you may like it. But I only like the Ocean's films because of the Heist theme. If Ocean's 12 it's not about Heist then what's the point to see it? Glad Soderberg saw his main error and redeemed himself by making a film far superior to the first one. Kudos for that.<br /><br />Steven Soderberg isn't really a good director. Apart from his hit \"Sex lies and videotapes\"... nothing else happened so much great to the career of this director. Shame on him. But his fault only.\n",
      "true_label 0\n",
      "response 0\n",
      "\n",
      "text: Based on the best selling novel by Khaled Hosseini, The Kite Runner is a story of friendship, betrayal, and the struggle for redemption. Set in Afghanistan prior to the Soviet invasion of 1979 and later in the days of Taliban rule, all of the elements are present for great drama but, under the direction of Marc Forster (Finding Neverland), the film lacks the kind of searing emotional impact that makes for a memorable experience, though it is entertaining, well acted, and occasionally moving.<br /><br />Set in 1978 in Kabul but filmed in Kashgar, China because of the dangers in Afghanistan, the friendship that opens the film between two young boys is very real, though they are miles apart in social and economic circumstances. 12-year-old Amir (Zekiria Ebrahimi) lives in posh surroundings with his wealthy and educated father Baba, played by the great Homayoun Ershadi, although his wealth seems a bit incongruous in one of the poorest countries in the world. Though Baba is a loving father, he confesses to Rahim Khan (Shaun Toub), his friend and business associate, that Amir is too soft and that there is \"something missing with that boy\". The family has a servant, Ali (Nabi Tanha) who dotes on his every need and whose son Hassan (Ahmed Khan Mahmoodzada) is Amir's best friend.<br /><br />The two are separated not only by class but also by ethnicity. Amir, a burgeoning writer, is a member of the Pashtun majority while Hassan is a Hazara, a minority sect (10% of the population). Though we learn little about their traditions or social situation, they are bound together by their love of kite flying, a popular sport in Kabul and by Amir's reading Afghan folk stories to Hassan who is illiterate. The annual kite-flying competition to the boys is a big event in their lives and the CGI effects are breathtaking. The kite strings are covered with glass particles and the winner is the one whose kite string can cut down the other kites in the sky. Hassan is the kite runner who has an uncanny ability to locate the fallen kites and bring them to Amir as a trophy. After Amir wins the important contest, however, a sad event occurs that will shape the rest of his life.<br /><br />Bullies, led by the older Assef (Elham Ehsas) who later appears as a ruthless Taliban leader, attack Hassan because he is a Hazara and brutally rape him (off camera) while Amir is too frightened to try and prevent it. Unable to confront his perceived lack of courage (though one must wonder what if anything he could have done to help Hassan), guilt becomes the driving force in his relationship with Hassan and their friendship becomes strained. In one incident, Amir throws pomegranates at Hassan as if begging him to fight back and punish him for his passivity but Hassan doesn't take the bait, continuing to be loyal in spite of his friend's cowardice. When Amir urges his father to dismiss the servants and accuses Hassan of stealing his watch, Hassan admits to the theft even though he is innocent. Eventually, circumstances force Ali and Hassan to leave out of shame. When the Russians invade Afghanistan, Baba and Amir also leave, fleeing to Pakistan and then to Fremont, California where the story picks up years later.<br /><br />Baba is forced to work at a gas station and to sell trinkets at an open-air market while Amir (Abdul Salam Yusoufzai), seemingly going through the motions of living, studies to become a writer at the local community college. After he falls in love and marries Soraya (Atossa Leoni), the daughter of a Kabul general, Amir finally publishes his first novel, A Season of Ashes and things look very positive. When Amir receives a call from Rahim Khan asking him to visit him in Pakistan telling him \"there is a way to be good again\", the specter of guilt that has haunted him all of his life beckons Amir to go home. He returns to Pakistan and, with great risk, goes back to an Afghanistan now controlled by the Taliban to confront the demons of his past and to discover a startling secret in the process.<br /><br />The Kite Runner is a sensitive film that deals with the internal pain that comes from knowing that you were not true to your best instincts and allows for the possibility of moving beyond shame to a new level of responsibility. It also does not hide the pain caused to Afghanistan by wars and revolution, a pain that is perhaps represented by the suffering Hassan. Unfortunately, it reduces complex situations to the level of good guys and villains and distorts what actually happened, exonerating the U.S., who engaged in anti-government covert operations within the country, from any responsibility for the disastrous war that left over one million dead and millions more disabled. Though we are inspired by the outstanding child actors and moved by the freedom that kite flying represents, The Kite Runner relinquishes its power when it attempts to substitute melodrama for history.\n",
      "true_label 1\n",
      "response 1\n",
      "\n",
      "text: A Lassie movie which should have been \"put to sleep\".... FOREVER. That's how I'd describe this painfully dreary time-waster of a film. So mediocre in every aspect that it just becomes a dull, uninteresting mess, this is one of the most forgettable movies I've seen. It isn't even an achievement as a \"so-bad-it's-good\" or \"so-bad-it's-memorable\" movie. The idea of Lassie turning bad is intriguing but so little actually happens, and so slowly, that you feel your life slipping away while sitting there, watching the non-actors read their lines off cue cards waiting for their measly paychecks.<br /><br />It's an empty, hollow shell of a movie. Seriously, it's not worth wasting your, or your kid's time on. Unless you're both heavily medicated. That's all I have to say.<br /><br />Avoid, avoid, avoid! It will drive you barking mad! Hahahah, get it? BARKING! Hahahahahahaha! <br /><br />Sorry, I've had a rough week.\n",
      "true_label 0\n",
      "response 0\n",
      "\n",
      "text: Okay, this wasn't the greatest horror movie I've ever seen in my life. Despite the fact that it's lower budget, it's a pretty decent movie, though. The monsters are unique and believable. Heck, they're even kind of scary in the scenes where they show them briefly wreaking havoc on this poor family. Although, when you finally do get to see the monsters completely, you really think \"WTF!? those itty bitty things are after them?!\" The only part that really disturbed me is when *sniff* they killed the kitty! Not the kitty, noooooo, why? Seriously though, if you are looking for hardcore violence and gore, this is not the movie for you. Go rent The Hills Have Eyes or something along those lines. If you have small children, I wouldn't recommend watching this with them though; probably would give them nightmares about trolls in their room.\n",
      "true_label 1\n",
      "response 0\n",
      "\n",
      "text: I chose this movie really for my husband-who works in radio broadcasting. I thought that it would be more of a movie that he would enjoy and relate too, though it was from the eighties-so it was a little dated. This movie really draws you in. At times you just want to strangle the host, Barry. At times you just want to send some of the bigots who call in to a true concentration camp. At times you really feel sorry for Barry, because he has truly gotten too big for his jeans if you know what I mean. It was on the Drama channel on Encore-so I am thinking this is a true story. If you truly love dramas you will love this, even if you don't know all the ins and outs of the broadcasting business. If you are an Alec Baldwin fan and are watching it to see him, you shouldn't. His part is really a bit part in this movie.\n",
      "true_label 1\n",
      "response 1\n",
      "\n",
      "text: I saw this on a cheap DVD release with the title \"The Entity Force\". Since I enjoy cheesy 80's horror films I thought I was in for a real treat. Sadly the film is mostly boring and you're constantly waiting for something to happen. It does eventually get somewhat interesting, but this is in the last quarter of the film. It's a case of too little too late. When the action does happen it's not that great, what we get are dead corpses 'floating' along the ground and chasing after the girls in the mausoleum. It's not the absolute worst I've seen, but you can do a lot better. I would only recommend this to die-hard collectors of cheesy 80's horror.\n",
      "true_label 0\n",
      "response 0\n",
      "\n",
      "text: This is truly a documentary of love about a fascinating character, her outlook on life and her extended family. The filmmakers spent three years taping Sister Helen at her halfway house and managed to capture so much wonderful material that you can not help but feel you know Sister Helen and her \"boys.\" The house holds 21 recovering addicts each with a story almost as involving as Sister Helen's. The ending scenes are particularly involving and emotional.<br /><br />Sister Helen's story of marriage, addiction and loss reveals a very complex character who's tough love is at all times funny, touching and endearing.<br /><br />The film is a amazing in the way it tells its story in wonderful slice of life sequences which develop into a story that is almost as clear as if each scene were scripted and acted by the best. The honesty (and obvious dishonesty) of the \"clients\" is very involving as you learn of their fears and watch their attempts to grow.<br /><br />You will never forget Sister Helen, Robert, Moe or poor Ashish(spelling?).\n",
      "true_label 1\n",
      "response 1\n",
      "\n",
      "text: I don't leave IMDb comments about films but this.... this film was bad. very bad. I fast forwarded through most of it, stopping where I hoped the acting had improved since the last scene, only to continue with the fast forwards. Formula plot -- once the obvious murderers were discounted, there was only the one left. And that was in the first five minutes. Scene by scene it felt as though I'd already read the script before because there were no surprises, no mystery. The Tori character... bad bad acting. A true waste of time on DVD and a definite 'let's go to bed early' option if it's the only thing on television. If you watch this film, you will find yourself realising you'll never be able to get back the time you've just wasted.\n",
      "true_label 0\n",
      "response 0\n",
      "\n",
      "text: If you have few expectations, then this will entertain for 90 minutes. My problem is that they've dumbed down this tale for the modern audience. Highwaymen are already sexy, exciting characters. They don;t need the techno soundtrack and snappy dialogue.\n",
      "true_label 0\n",
      "response 0\n",
      "\n",
      "text: At it's core, this is a fairly typical revenge Western, heavy on the spaghetti, and if you follow it as such, the protagonist comes through successfully defeating the main villain. However there's so much going on that has no bearing on the story that you have to wonder what the film makers were thinking about. I'm referring to stuff like the way Miss Rosie's singing number just pops up out of nowhere and the boxing match in the middle of town. OK, they have a loose connection to the influence villain Mash Flanagan has, but why all of a sudden does he turn up with an alias - Mr. Donovan.<br /><br />On the flip side, I thought it was pretty innovative how the camera shot showing the wounded Wallach's view of the trail might have been filmed by someone with an actual bullet in his shoulder. And wasn't it great the way Donovan's girl uses the old headache routine when he gets a little frisky? Don't let me forget either the great stunt work by the gravel pit bad guys as Wallach guns them down as part of the finale.<br /><br />Still, there was one thing unaccounted for, and I kept waiting the entire movie for it. Whatever happened to that trio of hoods that Flanagan/Donovan hires near the start of the picture? You know, the guy Martel that a funeral parlor wanted to hire for his gun prowess, the devil's henchman Mitchell with the rifle, and the knife thrower Lincoln Tate. Each had a five thousand dollar bounty on his head, and they were supposed to protect Donovan from the guy who survived the massacre of the opening scene. They were never heard from again! I like to think that maybe Donovan just had them killed and kept the 15K all for himself.\n",
      "true_label 0\n",
      "response 0\n",
      "\n",
      "text: Honestly, I didn't really have high expectations for this movie, but at the same time I was hopeful. Having it be directing by Albert Pyun - one of the more well known b-movie auteur's - didn't exactly raise my hopes. I mean how many Albert Pyun flicks rank that highly? Yeah, exactly ... but still the movie advertised a decent cast. Rob Lowe, Burt Reynolds (pre-reborn stardom), Ice-T and Mario Van Peebles.<br /><br />It all amounts to squat however as the movie is so boring and moves so slowly that the energy just seemed to drain right out of me the longer it went on. It runs over 90 minutes, but it's telling a story that could have been told in 30 minutes flat. I don't know what Pyun was going for here. I mean the movie drips artsy-like style, but it's a blur at times and maybe I'm an idiot for expecting more from Pyun this time around. Here he seemed to actually have a budget and a potentially great cast for the material, but it's all wasted. Crazy Six isn't much of an action film, it's not much of anything really.<br /><br />I guess what's the saddest here is the fact that I found the end credits the most entertaining part of the movie. The music score is actually half-decent with some smooth female vocals too, but the rest is a complete waste and the less said the better. Avoid.\n",
      "true_label 0\n",
      "response 0\n",
      "\n",
      "text: Ray is one of those movies that makes you pause. You actually think about what you heard or think about what you read about this man and it doesn't even come close. During my first viewing of Ray I forgot I was watching a movie I felt like a peeping tom watching this man's life thru a window. This movie is so compelling it drags you in and it involves your every emotion you go thru a emotional roller-coaster ride and when it's over you don't want to do it again so soon because it has that kind of emotional punch that other movies are lacking. Jamie Foxx deserved his Oscar and quite rightfully so his performance is spectacular and it should be held up as the standard for anybody wanting to do a bio pic anytime soon. This movie is as good as it's subject both deserved the titles classic and legend.\n",
      "true_label 1\n",
      "response 1\n",
      "\n",
      "text: Jamie Foxx does a fine job of impersonating the famous blues/soul/country singer Ray Charles. To the film's credit, it shows both the good and the bad regarding Charles' character and the choices he made, both personally and professionally.<br /><br />This is a slick-looking film that provides you with a rich feel of the periods in which the story takes place. Not only does it look good, it sounds good. I only wish there was more music in here. When it's inserted, it's fabulous but there isn't enough of it. <br /><br />Assuming, at least for review purposes, that the story was true, I was impressed and disappointed with Charles, meaning the story left some memorable impressions since I'm writing this 16 months after viewing it. Main impressions include:<br /><br />GOOD - Re-living Ray's immense talent and his foresight to step out and take chances musically, such as going \"country\" for awhile. The man had supreme confidence in himself but didn't come across as arrogant about it. Also memorable was showing him beating his heroin addiction - with no help! That's just amazing.<br /><br />BAD - I also remember through this film how easily hooked Ray got in the first place and disappointed he was so unfaithful to his wife. A really sad comment was that his wife was more upset with him for missing his kid's Little League games than she was for all the cheating he was doing on her, even fathering a child with a member of his singing group.<br /><br />The only negative I had with the filmmakers was the overemphasis of his problems being blamed on one early childhood event, the accidental death of his brother. That tragedy was used as cop-out for all Ray's misdoings as an adult, which is another example of a culture in which people refuse to take responsibility for their actions.<br /><br />Note: There is an extended version with the DVD but word has it that it is so poorly edited that it's not worth watching, so stick with the \"theatrical version.\"\n",
      "true_label 1\n",
      "response 1\n",
      "\n",
      "text: here in Germany it was only shown on TV one time. today, as everything becomes mainstream, it's absolute impossible, to watch a film like this again on the screen. maybe it's the same in USA, or especially GB. The Message is a brutal truth : Find friends to make your ideas come a bit closer to reality, or you become a loser, if not an asshole instead.<br /><br />The whole film is not particularly as simple, as it may seem here. Every little scene, every sentence, every behavior of the characters show a sharp look at what could happen, when one person is not accepted in a sadistic crowd, which calls itself normal.<br /><br />Very well played by all this is a must seen. Who is the main character? John (not Cox, folks, remember ;-) ore Niles (who still is Bimbo) Decide and you will get the plot as it is intended.<br /><br />A bitter look at what society becomes in a repressive system. Kind of Salingers Catcher in the rye and Goldings Lord of the flies thought to the very end.<br /><br />The Final maybe change your own mind. Word\n",
      "true_label 1\n",
      "response 0\n",
      "\n",
      "text: Read the book, forget the movie!\n",
      "true_label 0\n",
      "response 1\n",
      "\n",
      "text: More of a near miss than a flop, MR. IMPERIUM stars Ezio Pinza as Alex, heir apparent to and later king of a small European nation, who falls in love with a willing American actress and entertainer, Fredda Barlo (Lana Turner), but due to machinations by the sly prime minister of Alex as king, nicely played by Cedric Hardwicke, the lovers are separated for 12 years before being reunited in Palm Springs where their love is rekindled. Director Don Hartman, who also scripts, is not able to fully utilize his talent for snappy dialogue because of Pinza's tentative English usage, and the requisite rewriting, coupled with less than total rapport in evidence between the two stars, results in a somewhat raggedy tone to the screenplay, exacerbated by the studio's unkind cutting of many scenes, leading to a confusing ending. The overpowering Pinza dominates his scenes with Turner, but both performers score with good work, while Marjorie Main is impressive with her patter effects as written, with Debbie Reynolds placed on track by Louis B. Mayer for SINGIN' IN THE RAIN as a result of her sprightly performance here; only Barry Sullivan is heavily victimized by the flagrant cutting. Prettily filmed largely in Pebble Beach, California, and other Monterey County environs, the film is endowed with Pinza's iron strong operatic basso in Solamente Una Vez, as well as with original songs by Harold Arlen and Dorothy Fields, with Douglas Shearer splendidly handling the sound recording, and notice must be made of the fine set decorations by Edwin Willis, and the effective costume designs by Walter Plunkett.\n",
      "true_label 1\n",
      "response 1\n",
      "\n",
      "text: I stumbled upon this movie whilst flipping channels on the teevee late one night. It has continued to hold my interest some twenty years later, because of the important real-life lesson it teaches us about the dark side of human nature. And although it tells a true story that takes place in WWII, it is amazingly apropos to the ugly things happening in Europe today.<br /><br />If you thought \"ethnic cleansing\" as it's called today, has anything to do with race or ethnicity, you'll think differently after viewing this story.<br /><br />I guess I'd been pretty naive in thinking that evil follows any prescribed set of rules. Evil is as evil does.<br /><br />This movie teaches a valuable lesson, and I recommend it especially to e.g. church groups or civil rights organizations.<br /><br />I don't expect it will be too easy to find and rent, but I'd really like to see it again, because there is one amazing scene in it which gives a totally unintentional yet interesting glimpse of the banal intricacies of \"race expertise\". In this scene, the protaganist, who was taken prisoner by the Nazis at the beginning of the war, is \"discovered\" by an SS race authority, and ushered into a room. There the two play a sort of guessing game, where the SS officer is able to determine where our hero (Anthony Quinn's character) came from -- and where his ancestors came from. Well \"come to find out\" that Quinn's character isn't a member of an \"inferior\" race after all, but to the contrary, he's a perfect, archtypical Aryan! Which doesn't mean a whole lot to Quinn's character, who is more interested in talking about the towns, rivers and mountain ranges that the SS guy had just been naming... Nevertheless, being a perfect Aryan archetype has its perks. Among other things, he gets to leave his job in a slave labor factory where he wears striped rags, and into a slave modeling job where he gets to wear tailored Nazi uniforms. Yeah, it's a better gig for sure for a guy who always did appreciate wearing nice clothes... until the Allied armies arrive, and recognize his face from magazine covers.<br /><br />\n",
      "true_label 1\n",
      "response 1\n",
      "\n",
      "text: This movie starts at A and never quite reaches B. Its title promises far more than the film delivers. It's superficial and filled with the usual cliches of a story in which a guy questions his sexuality. The people are agreeable, even the obligatory flamboyant type. The lead (Kevin McKidd) overacts insofar as there's a reason for him to act at all. Simon Callow, playing a horny straight, is always worth watching, and he's by far the only reason to stay with the movie. However, the rubbish about his men's group \"meditations\" or whatever they are grows extremely tiresome in short order. They seem to have been thrown into the movie's mild mix in a misguided effort to vary the setting and non-stop inaction. The same comment applies to a really odd and unconvincing camping trip. Don't worry about pausing the tape so you can get a snack. Let the thing run; you won't miss anything. Hugo Weaving's character is superfluous. He appears in a sequence with one of the lesser leads and doesn't even meet the rest at all. The outcome of that sequence isn't explained, and Hugo's real estate dealings have nothing to do with the story. The movie is a total disappointment at the end, because there is no resolution. The thing simply fades out and we're sent to the closing credits. This is an interlude with no structure.\n",
      "true_label 0\n",
      "response 0\n",
      "\n",
      "text: There is something that one of the characters (the aging film director who pretends to be dead) says which may summarize all the film: \"In Italy it's the dead who rule\". True! This is a country without a future, in the hands of old and jaded men. And Bellocchio's cryptic portrait of the country, pivoted on the apparently senseless story of a director who has to film marriage parties to earn a living, manages to say a lot about what is not working here. But foreigners may miss the point, as it's not clearly expressed. I understand that Australian or Canadian people who watch this may get bored and wonder if there's a meaning--well, there's a meaning, but it's clear only to people who live here today, and keep their eyes wide open... like Bellocchio. Surely it's not one of his best films, and it's not as powerful as Buongiorno, notte, but it's worth seeing... for Italians who live in Italy.\n",
      "true_label 1\n",
      "response 0\n",
      "\n",
      "text: This movie was to me a fairly enjoyable watch, I mean it wasn't great but it was one of the better horror movies of late. It seems to have been low, almost state benefit budget size but it has it's charms like the lovely ladies in it. The atmosphere was good also (which is what is missing froma hell of a lot of horror movies these days). The acting was your typical 80's low budget affair, that being in case you don't know is that it is \"dud\" acting. But that is what Lucio Fulci's movies were full of, they like this movie had atmosphere what they were lacking in storyline and money etc. They more than made up for in the horror & gore & atmosphere for the movie it's self.<br /><br />It is just a typical low budget horror movie that is watchable, I watched it all the way and I love horror movies. I've seen movies where I just turn off within 10 to 20 minutes or sit and fast forward it if it's on video, or skip scene's on the DVD. This movie didn't make me want to do that, I sat and watched it all the way to the end, without wanting to skip parts.<br /><br />I would have liked it however if the zombie type folk in this were a little more scarier as they were about as scary as having Freddy Kreuger as your babysitter, not. But seriously though if they were a little better it would have been low budget perfection, maybe.<br /><br />The music in this movie was top notch stuff, ideal horror music so it was. I've seen horror movies where the music is good or average but it could have been better, thank goodness though this movie didn't have nay of the Metal music in it.<br /><br />I've been a die-hard Metal fan since 1990 but in horror movies metal music spoils it, the movie looses atmosphere a lot when any type of music other than a score is playing. So i'm glad there was no music in this movie other than just your typical score which was rather creepy, well done.<br /><br />It could have use \"Profane Grace - Epitaph Of Shattered Dreams\" on it though. As it is keyboard music no guitars no nothing except \"really\" creepy keyboard tracks. Like track one \"Forever Sleep\" you hear the wind blowing all the way through it and some goose bump inducing keyboard music that follows it. Ever track on that cd is the same, ideal horror music at it's best, it would have suited this movie perfectly.<br /><br />The only unattractive chick in the movie to me was the one who got chibbed/killed (or so we are led to believe) and hung up as a scarecrow, only to get free and try to escape later. Every other woman in the movie was lovely indeed, a big 9 out of 10 for them all except the one I mentioned above.<br /><br />I wish that Hollywood (mainstream side of things) would give money to Romero and the guy who made this movie. As giving it to them for movies is way better a decision made than giving it to a goon muppet called Paul Anderson of the \"resident evil\" mince.<br /><br />Well done guys, it is not bad, not bad at all, I loved the part at the end credits when they kept showing you clips of them making the movie (behind the scene's) Not many movies do this kind of thing, which I thought added a little to the movie, as it also showed you some outtakes of sorts and that's always a good thing if you ask me.<br /><br />Rating for this movie 8/10, rating for the lovely ladies in the movie 9/10, rating for the atmosphere in the movie 9/10, rating for the score for the film 9.5/10.\n",
      "true_label 1\n",
      "response 1\n",
      "\n",
      "text: Viewing both of these films concurrently is not a bad idea to get a sense of early film production and acting for the camera styles. I give the nod to Garbo(but not by much)in regard to her naturalness. Robeson is majestic. But his performance is aimed for a large proscenium theater. Something else that struck me was the movies themes of empowerment for women and minorities. There hadn't been any films coming out of Hollywood yet that allowed the voices of marginal characters like Anna and Brutus to take the foreground. These were very progressive films for their time. It's quite probable that O'Neill saw the writing on the wall way before everyone else did about the future of America.\n",
      "true_label 1\n",
      "response 1\n",
      "\n",
      "text: typically, a movie can have factors like \"arousing\", \"good feel\", \"sense of purpose\", \"plot\", etc. There's always something that can be taken out of movies, its just a matter of how compelling the reason is, for me to own it in my collection. 'Tale of two sisters\", as they call it when it was released in my country, has tremendous feel and an eventually (mostly) self-explaining plot. i love horror movies that revolve around a house. titles that come to mind are \"The Others\", \"The Haunting\", \"The haunting of Hell House\". this movie will be a another great example that i will remember. the movie had extremely rich colour, in the way the house was decorated, in the clothes that the characters wore, in the open-skied daylight scenes that is in contrast to most horror movies, which, typically makes use of desaturated tones and gloomy environs (think Honogurai mizu no soko kara, Dark Water, which is another show i like) that gives this film a sense of aesthetics and joy when it wasn't in its, more, gripping moments. the characters are extremely believable. this may be partly attributed to the familiar setting of this movie. maybe domestic issues are easier for both myself as well as the actors to identify with, and the actors become their characters with exceptional finesse. the director toys with timelines, in order to give the audience the story in bits and pieces, allowing them to come to their own terms of interpretation, instead of presenting everything in a linear fashion. this is a positive aspect of this film, in my opinion, and, perhaps, it is my interpretation of this movie that allows me to find it enjoyable. i would definitely look out for this on DVD.\n",
      "true_label 1\n",
      "response 1\n",
      "\n",
      "text: This is a very realistic movie. It's the most realistic I've seen on urban youth. The actors were great. I will look out for more films by Gomez. I had never heard of the film until someone mentioned it recently. I bought it on DVD. I was impressed. I haven't seen anything come close to life as I know it in Philadelphia. This comes real close - in fact, one scene where there is an accident (I won't spoil and give details), reminded me of a nearly identical situation in Philadelphia. At first I thought Gomez took the scene from that real-life event, but then I realized that he made the film a few years before that situation. I also agree with the point that this film didn't try to broaden its appeal by putting in Hollywood crap. Gomez also directed \"Laws of Gravity\" - I am eager to see it.\n",
      "true_label 1\n",
      "response 1\n",
      "\n",
      "text: I don't normally write reviews, but for this film I had to. I'm shocked at the acting talent in this move going to waste... the script was appalling... the editing awful... and the plot very thin. You spend the first half of the movie wondering who is talking to who and what on earth they are doing. The latter half of the movie slows down slightly, but has no depth or feeling. The only saving grace is the nice, but still limited cgi, and the location being London. I gave 3 stars for that, and the fact the actors still tried to do a good job with the drivel they were given. If you fancy losing a couple of hours of your life with mediocre popcorn disaster movie entertainment, by all means, this is the movie for you. But I would recommend doing something else with your time instead, like watching the real archive footage online! :) http://www.weatherpaparazzi.com/flooding.asp\n",
      "true_label 0\n",
      "response 0\n",
      "\n",
      "text: this film was probably the best \"scary film\" i've seen in years. chilling might be a more accurate description. the ending was unexpected and therefore took me by surprise. if it has any flaw it would be the overuse of the whole meaning of life concept. since noone truly knows that answer, you definitely sail into murky waters when you incorporate that concept into a movie. put that aside and the movie is quite enjoyable. carly pope should emerge as one of the next bright young stars in the film industry. the rest of the cast were somewhat shaky, however since the focus was on sara novak (carly pope), her performance anchored the movie. the, at times poor acting abilities of her costars were not an issue since it was not their performances that fuelled this movie. (thankfully). watch this movie you should enjoy it.<br /><br />t\n",
      "true_label 1\n",
      "response 1\n",
      "\n",
      "text: A snore gore. I saw this piece of horrible, stinking, worthless, junk at the Cameo Movie House (Now the famous Crobar Night-club)on Washington Avenue on South Beach in 1980 or 81. I was 17, and my three buddies and I laughed at this horrible, gross, piece of trash. The theater was on it's last legs and there were mostly drunks snoring and sleeping in the place. They didn't miss a darn thing. The Worst acting ever.These actors deserve the Academy Award for the worst, and I mean worst acting roles in the history of the cinema. Joke was, the theater was showing another Mi Mi Lay(A great name at least!) stinker...barf city. Enough said. If you're under 12 years old you might get a few chills. Over 12, you will be snoring after the opening credits. It's just amazing that anyone spent a cent on making this movie. And to think, it's considered a \"cult\" classic. YUK!!!!\n",
      "true_label 0\n",
      "response 0\n",
      "\n",
      "text: This is an excellent Anderson production worth comparing with the best episodes of UFO or SPACE 1999 (first series). Of course it isn't some SFX extravaganza or Star Wars pseudo-mystic tripe fest, but a subtle movie that has a slow pace, yet it conveys the creepy, eerie and uncanny atmosphere of the best Anderson productions: for lovers of 'cerebral' sci-fi. Lynn Loring's voice is ABSOLUTELY AWFUL. SFX are good for this kind of product and acting is good as well. Two astronauts visit a planet on the opposite side of the sun but crash land home instead...or do they? Ah, videophones! Every now and then peddled as the next 'everyone's gadget next decade' but still to happen 40 years later. The device of Earth's twin planet on the opposite side of the sun also returns in Gamera tai daiakuju Giron (1969), so who copied whom?\n",
      "true_label 1\n",
      "response 1\n",
      "\n",
      "text: From the start you will like Sam Elliott's character (Falon) : a trustworthy cop that is notably loyal to his partner. But too loyal, and too revengeful when seeing his partner dead in an alley, cause he then kills who he thought to be the assailant before giving him a chance to explain. Falon is an alcoholic, and that tends to sway him from being in self control, though he manages to direct his attention towards finding who's really behind his partners death. He carries along a rookie as his new partner (which seems to be seen too often in films) but Esai Morales does well in accompanying Sam Elliot, though puzzling pieces begin to fit to where Morales begins a self-approved investigation towards Falon; he mainly wants to find the answers since Fallon isn't letting him in on the whole story, and does not like what he finds. There is not a last minute showing at who the bad detectives are, which is okay; and they are not able to sway Falon into joining them, leading to a dramatic ending. Fine acting all the way around, with a touch of humor from Paul Sorvino who is the captain of detectives. It's a good movie that will make you want to see it several times; so it qualifies as a -must see-, and a good addition to a movie collection! (Filmed in San Francisco)\n",
      "true_label 1\n",
      "response 1\n",
      "\n",
      "text: This is a beautiful, yet simple movie about one man, driven to find an answer, an answer he doesn't necessarily need but has structured his whole life around. It is heartrending, it is hilarious, it is glorious, it is tormenting, it is delicate and dynamic, I say it's genius.<br /><br />I have read Jonathan Safran Foer's book Everything is Illuminated (mainly because I heard Elijah Wood was starring in the movie adaptation), and I was just enraptured by the characters. I laughed out loud more than once. And every time someone talks about what it's about, I hear the same hackneyed response, almost like it's one big long word: \"It'saboutaguylookingforthewomanwhosavedhisgrandpafromtheNazis.\" Yet, this story is so philosophical; it goes deeper than that. That conversation about the ring and \"in case.\" It really gets one thinking. Suddenly, this story merges from a simple quest to an inner metamorphosis, and I find myself looking at things a bit differently now.<br /><br />I recommend renting this before, if ever, reading it, because the book had many obscene, downright perverted stories that were not included in the movie, mainly the history of Jonathan's family that was not necessary for the film. <br /><br />A bit of trivia, I heard, is that Wood's current girlfriend has a cameo in this flick as the drummer in the band that Alex arranges to perform as Jonathan steps off the train into Ukraine.<br /><br />You spend half of the movie trying to figure out what it's about, exactly, and what Jonathan is about, because his character is so withdrawn, like a turtle in a shell.<br /><br />It is magnificent, and in my opinion, one of Elijah Wood's best movies.\n",
      "true_label 1\n",
      "response 1\n",
      "\n",
      "text: As you can see, I loved the book so much I use the title for my internet alias and have for over 15 years. (Okay, so it had to be spelled phonetically to fit the name character limit for the BBS at the time but what could I do?) If anyone every finds this movie, I would absolutely love to see it! Janet McTeer is great in everything else I've seen of hers. I think she would have made a great Prue. And it even features early Clive Owen - from before Chancer (a great series itself). What's not to love? I hope the powers that be wise up and make this available on DVD soon! With some of the true dredge they pout out, it's about time well executed productions make it on the market too.\n",
      "true_label 1\n",
      "response 1\n",
      "\n",
      "text: A fine line up of actors and a seemingly nice plot -- though not original -- promised me a nice evening in front of the TV. I was disappointed. The actors delivered up to standard (Juliette Lewis cuddly as ever; William Hurt solid but in the background; Shelley Duvall convincing as ever) but the story was too thin to keep me engaged to the story and, the twist to the finale was too obvious and too late; there was only one character who was nice to he girl, so guess what?! Then the final after-twist I do not know what to think of that. The boyfriend and the neighbor? Contract with the Devil, or just to get her to move in? What! The film had a nice idea behind it, but the idea was not worked out in detail. It could have been good, but it was not. Too many loose ends to tie up, Columbo would say.\n",
      "true_label 0\n",
      "response 0\n",
      "\n",
      "Accuracy: 0.88\n"
     ]
    }
   ],
   "source": [
    "n_test_samples = 50\n",
    "predicted_labels = []\n",
    "for i in range(n_test_samples):\n",
    "    text = dataset[\"test\"][\"text\"][i]\n",
    "    true_label = dataset[\"test\"][\"label\"][i]\n",
    "    try:\n",
    "        response = client.completions.create(model=deployment_name, prompt=prompt(text), max_tokens=5)\n",
    "        encoded_response = encode_response(response)\n",
    "        print(\"\\ntext:\", text)\n",
    "        print(\"true_label\", true_label)\n",
    "        print(\"response\", encoded_response)\n",
    "    except Exception as e:\n",
    "        print(\"Error:\", e)\n",
    "        encoded_response = -1\n",
    "    predicted_labels.append(encoded_response)\n",
    "\n",
    "print(\"\\nAccuracy:\", accuracy_score(dataset[\"test\"][\"label\"][:n_test_samples], predicted_labels))"
   ]
  },
  {
   "cell_type": "markdown",
   "metadata": {},
   "source": [
    "### Comparison with fine-tuned model\n",
    "\n",
    "Let's compare the accuracy with the accuracy of a fine-tuned model. HuggingFace has several different models that are fine-tuned to predict the sentiment of Imdb reviews. Select the model `lvwerra/distilbert-imdb` and calculate the model accuracy."
   ]
  },
  {
   "cell_type": "markdown",
   "metadata": {},
   "source": [
    "## TODO\n",
    "\n",
    "Check the model description from HuggingFace. What is the documented accuracy of the model?"
   ]
  },
  {
   "cell_type": "markdown",
   "metadata": {},
   "source": [
    "### Use the transformers pipeline for predictions"
   ]
  },
  {
   "cell_type": "code",
   "execution_count": 69,
   "metadata": {},
   "outputs": [
    {
     "name": "stderr",
     "output_type": "stream",
     "text": [
      "/Users/aappopulkkinen/repos/llm-finetuning-public/venv/lib/python3.12/site-packages/huggingface_hub/file_download.py:1132: FutureWarning: `resume_download` is deprecated and will be removed in version 1.0.0. Downloads always resume when possible. If you want to force a new download, use `force_download=True`.\n",
      "  warnings.warn(\n"
     ]
    },
    {
     "data": {
      "application/vnd.jupyter.widget-view+json": {
       "model_id": "df95f4db023f44888f9a0549956cee8a",
       "version_major": 2,
       "version_minor": 0
      },
      "text/plain": [
       "config.json:   0%|          | 0.00/735 [00:00<?, ?B/s]"
      ]
     },
     "metadata": {},
     "output_type": "display_data"
    },
    {
     "data": {
      "application/vnd.jupyter.widget-view+json": {
       "model_id": "623e2d09caa24636884faaec63444131",
       "version_major": 2,
       "version_minor": 0
      },
      "text/plain": [
       "pytorch_model.bin:   0%|          | 0.00/268M [00:00<?, ?B/s]"
      ]
     },
     "metadata": {},
     "output_type": "display_data"
    },
    {
     "data": {
      "application/vnd.jupyter.widget-view+json": {
       "model_id": "34aae08b9bae47a08b4bb1fb61b54122",
       "version_major": 2,
       "version_minor": 0
      },
      "text/plain": [
       "tokenizer_config.json:   0%|          | 0.00/333 [00:00<?, ?B/s]"
      ]
     },
     "metadata": {},
     "output_type": "display_data"
    },
    {
     "data": {
      "application/vnd.jupyter.widget-view+json": {
       "model_id": "fc66e44f97434fefb0c0bed792de30d6",
       "version_major": 2,
       "version_minor": 0
      },
      "text/plain": [
       "vocab.txt:   0%|          | 0.00/232k [00:00<?, ?B/s]"
      ]
     },
     "metadata": {},
     "output_type": "display_data"
    },
    {
     "data": {
      "application/vnd.jupyter.widget-view+json": {
       "model_id": "0793ab7e2eef4c35804524f16a1130a6",
       "version_major": 2,
       "version_minor": 0
      },
      "text/plain": [
       "tokenizer.json:   0%|          | 0.00/466k [00:00<?, ?B/s]"
      ]
     },
     "metadata": {},
     "output_type": "display_data"
    },
    {
     "data": {
      "application/vnd.jupyter.widget-view+json": {
       "model_id": "a4938db3ffa649d1a8547e00ce38d1aa",
       "version_major": 2,
       "version_minor": 0
      },
      "text/plain": [
       "special_tokens_map.json:   0%|          | 0.00/112 [00:00<?, ?B/s]"
      ]
     },
     "metadata": {},
     "output_type": "display_data"
    },
    {
     "data": {
      "text/plain": [
       "[{'label': 'NEGATIVE', 'score': 0.987957775592804}]"
      ]
     },
     "execution_count": 69,
     "metadata": {},
     "output_type": "execute_result"
    }
   ],
   "source": [
    "pipe = pipeline(\"text-classification\", model=\"lvwerra/distilbert-imdb\")"
   ]
  },
  {
   "cell_type": "code",
   "execution_count": 80,
   "metadata": {},
   "outputs": [
    {
     "name": "stdout",
     "output_type": "stream",
     "text": [
      "Accuracy:  0.86\n"
     ]
    }
   ],
   "source": [
    "predicted_labels_finetuned = pipe([dataset[\"test\"][\"text\"][i][:512] for i in range(n_test_samples)])\n",
    "predicted_labels_finetuned_encoded = [1 if item[\"label\"] == \"POSITIVE\" else 0 for item in predicted_labels_finetuned]\n",
    "\n",
    "print(\"Accuracy: \", accuracy_score(dataset[\"test\"][\"label\"][:n_test_samples], predicted_labels_finetuned_encoded))"
   ]
  },
  {
   "cell_type": "markdown",
   "metadata": {},
   "source": [
    "### TODO\n",
    "\n",
    "Does the prompting approach and fine-tuned approach have the same difficulties in determining the sentiment (are the same texts classified incorrectly)?"
   ]
  },
  {
   "cell_type": "code",
   "execution_count": 84,
   "metadata": {},
   "outputs": [
    {
     "data": {
      "text/html": [
       "<div>\n",
       "<style scoped>\n",
       "    .dataframe tbody tr th:only-of-type {\n",
       "        vertical-align: middle;\n",
       "    }\n",
       "\n",
       "    .dataframe tbody tr th {\n",
       "        vertical-align: top;\n",
       "    }\n",
       "\n",
       "    .dataframe thead th {\n",
       "        text-align: right;\n",
       "    }\n",
       "</style>\n",
       "<table border=\"1\" class=\"dataframe\">\n",
       "  <thead>\n",
       "    <tr style=\"text-align: right;\">\n",
       "      <th></th>\n",
       "      <th>true_label</th>\n",
       "      <th>predicted_label_finetuned</th>\n",
       "      <th>predicted_label_gpt35</th>\n",
       "      <th>text</th>\n",
       "    </tr>\n",
       "  </thead>\n",
       "  <tbody>\n",
       "    <tr>\n",
       "      <th>2</th>\n",
       "      <td>0</td>\n",
       "      <td>1</td>\n",
       "      <td>0</td>\n",
       "      <td>Eight Legged Freaks is a modern monster movie,...</td>\n",
       "    </tr>\n",
       "    <tr>\n",
       "      <th>8</th>\n",
       "      <td>1</td>\n",
       "      <td>0</td>\n",
       "      <td>1</td>\n",
       "      <td>When one thinks of Soviet cinema, the propagan...</td>\n",
       "    </tr>\n",
       "    <tr>\n",
       "      <th>15</th>\n",
       "      <td>1</td>\n",
       "      <td>1</td>\n",
       "      <td>0</td>\n",
       "      <td>A film to divide its viewers. Just criticism p...</td>\n",
       "    </tr>\n",
       "    <tr>\n",
       "      <th>16</th>\n",
       "      <td>1</td>\n",
       "      <td>1</td>\n",
       "      <td>0</td>\n",
       "      <td>To most of us, life is an unfolding process of...</td>\n",
       "    </tr>\n",
       "    <tr>\n",
       "      <th>22</th>\n",
       "      <td>1</td>\n",
       "      <td>1</td>\n",
       "      <td>0</td>\n",
       "      <td>Okay, this wasn't the greatest horror movie I'...</td>\n",
       "    </tr>\n",
       "    <tr>\n",
       "      <th>27</th>\n",
       "      <td>0</td>\n",
       "      <td>1</td>\n",
       "      <td>0</td>\n",
       "      <td>If you have few expectations, then this will e...</td>\n",
       "    </tr>\n",
       "    <tr>\n",
       "      <th>33</th>\n",
       "      <td>0</td>\n",
       "      <td>0</td>\n",
       "      <td>1</td>\n",
       "      <td>Read the book, forget the movie!</td>\n",
       "    </tr>\n",
       "    <tr>\n",
       "      <th>34</th>\n",
       "      <td>1</td>\n",
       "      <td>0</td>\n",
       "      <td>1</td>\n",
       "      <td>More of a near miss than a flop, MR. IMPERIUM ...</td>\n",
       "    </tr>\n",
       "    <tr>\n",
       "      <th>46</th>\n",
       "      <td>1</td>\n",
       "      <td>0</td>\n",
       "      <td>1</td>\n",
       "      <td>From the start you will like Sam Elliott's cha...</td>\n",
       "    </tr>\n",
       "  </tbody>\n",
       "</table>\n",
       "</div>"
      ],
      "text/plain": [
       "    true_label  predicted_label_finetuned  predicted_label_gpt35  \\\n",
       "2            0                          1                      0   \n",
       "8            1                          0                      1   \n",
       "15           1                          1                      0   \n",
       "16           1                          1                      0   \n",
       "22           1                          1                      0   \n",
       "27           0                          1                      0   \n",
       "33           0                          0                      1   \n",
       "34           1                          0                      1   \n",
       "46           1                          0                      1   \n",
       "\n",
       "                                                 text  \n",
       "2   Eight Legged Freaks is a modern monster movie,...  \n",
       "8   When one thinks of Soviet cinema, the propagan...  \n",
       "15  A film to divide its viewers. Just criticism p...  \n",
       "16  To most of us, life is an unfolding process of...  \n",
       "22  Okay, this wasn't the greatest horror movie I'...  \n",
       "27  If you have few expectations, then this will e...  \n",
       "33                   Read the book, forget the movie!  \n",
       "34  More of a near miss than a flop, MR. IMPERIUM ...  \n",
       "46  From the start you will like Sam Elliott's cha...  "
      ]
     },
     "execution_count": 84,
     "metadata": {},
     "output_type": "execute_result"
    }
   ],
   "source": [
    "import pandas as pd\n",
    "results_df = pd.DataFrame({\"true_label\": dataset[\"test\"][\"label\"][:n_test_samples], \"predicted_label_finetuned\": predicted_labels_finetuned_encoded, \"predicted_label_gpt35\": predicted_labels,\"text\": dataset[\"test\"][\"text\"][:n_test_samples]})\n",
    "results_df.loc[lambda df: df[\"predicted_label_finetuned\"] != df[\"predicted_label_gpt35\"]]"
   ]
  },
  {
   "cell_type": "code",
   "execution_count": 85,
   "metadata": {},
   "outputs": [
    {
     "data": {
      "text/html": [
       "<div>\n",
       "<style scoped>\n",
       "    .dataframe tbody tr th:only-of-type {\n",
       "        vertical-align: middle;\n",
       "    }\n",
       "\n",
       "    .dataframe tbody tr th {\n",
       "        vertical-align: top;\n",
       "    }\n",
       "\n",
       "    .dataframe thead th {\n",
       "        text-align: right;\n",
       "    }\n",
       "</style>\n",
       "<table border=\"1\" class=\"dataframe\">\n",
       "  <thead>\n",
       "    <tr style=\"text-align: right;\">\n",
       "      <th></th>\n",
       "      <th>true_label</th>\n",
       "      <th>predicted_label_finetuned</th>\n",
       "      <th>predicted_label_gpt35</th>\n",
       "      <th>text</th>\n",
       "    </tr>\n",
       "  </thead>\n",
       "  <tbody>\n",
       "    <tr>\n",
       "      <th>32</th>\n",
       "      <td>1</td>\n",
       "      <td>0</td>\n",
       "      <td>0</td>\n",
       "      <td>here in Germany it was only shown on TV one ti...</td>\n",
       "    </tr>\n",
       "    <tr>\n",
       "      <th>37</th>\n",
       "      <td>1</td>\n",
       "      <td>0</td>\n",
       "      <td>0</td>\n",
       "      <td>There is something that one of the characters ...</td>\n",
       "    </tr>\n",
       "  </tbody>\n",
       "</table>\n",
       "</div>"
      ],
      "text/plain": [
       "    true_label  predicted_label_finetuned  predicted_label_gpt35  \\\n",
       "32           1                          0                      0   \n",
       "37           1                          0                      0   \n",
       "\n",
       "                                                 text  \n",
       "32  here in Germany it was only shown on TV one ti...  \n",
       "37  There is something that one of the characters ...  "
      ]
     },
     "execution_count": 85,
     "metadata": {},
     "output_type": "execute_result"
    }
   ],
   "source": [
    "results_df.loc[lambda df: (df[\"predicted_label_finetuned\"] == df[\"predicted_label_gpt35\"]) & (df[\"predicted_label_finetuned\"] != df[\"true_label\"])]"
   ]
  }
 ],
 "metadata": {
  "kernelspec": {
   "display_name": "venv",
   "language": "python",
   "name": "python3"
  },
  "language_info": {
   "codemirror_mode": {
    "name": "ipython",
    "version": 3
   },
   "file_extension": ".py",
   "mimetype": "text/x-python",
   "name": "python",
   "nbconvert_exporter": "python",
   "pygments_lexer": "ipython3",
   "version": "3.12.2"
  }
 },
 "nbformat": 4,
 "nbformat_minor": 2
}
