{
 "cells": [
  {
   "cell_type": "markdown",
   "metadata": {},
   "source": [
    "## Compare different models for same tasks\n",
    "\n",
    "1. Use finetuned classification model and compare it's output with general purpose model with prompting\n",
    "2. Same with summarization"
   ]
  },
  {
   "cell_type": "code",
   "execution_count": null,
   "metadata": {},
   "outputs": [],
   "source": [
    "%pip install datasets\n",
    "%pip install openai\n",
    "%pip install scikit-learn\n",
    "%pip install transformers\n",
    "%pip install torch"
   ]
  },
  {
   "cell_type": "code",
   "execution_count": 1,
   "metadata": {},
   "outputs": [
    {
     "name": "stderr",
     "output_type": "stream",
     "text": [
      "/Users/aappopulkkinen/repos/llm-advanced-prompting-public/venv/lib/python3.12/site-packages/tqdm/auto.py:21: TqdmWarning: IProgress not found. Please update jupyter and ipywidgets. See https://ipywidgets.readthedocs.io/en/stable/user_install.html\n",
      "  from .autonotebook import tqdm as notebook_tqdm\n"
     ]
    }
   ],
   "source": [
    "from datasets import load_dataset\n",
    "from openai import AzureOpenAI\n",
    "from sklearn.metrics import accuracy_score\n",
    "from transformers import pipeline"
   ]
  },
  {
   "cell_type": "markdown",
   "metadata": {},
   "source": [
    "### Load dataset\n",
    "\n",
    "We load a dataset containing Imdb reviews with the review sentiment. Each review is labelled with `0` and `1` where `0` denotes negative review sentiment and `1` positive review sentiment.\n",
    "\n",
    "We use a subset of the original Imdb dataset to limit the traffic to our test endpoint during this exercise."
   ]
  },
  {
   "cell_type": "code",
   "execution_count": 51,
   "metadata": {},
   "outputs": [
    {
     "name": "stderr",
     "output_type": "stream",
     "text": [
      "Downloading readme: 100%|██████████| 296/296 [00:00<00:00, 2.00kB/s]\n",
      "Downloading data: 100%|██████████| 43.9k/43.9k [00:00<00:00, 92.7kB/s]\n",
      "Generating test split: 100%|██████████| 50/50 [00:00<00:00, 22922.20 examples/s]\n"
     ]
    },
    {
     "data": {
      "text/plain": [
       "DatasetDict({\n",
       "    test: Dataset({\n",
       "        features: ['text', 'label'],\n",
       "        num_rows: 50\n",
       "    })\n",
       "})"
      ]
     },
     "execution_count": 51,
     "metadata": {},
     "output_type": "execute_result"
    }
   ],
   "source": [
    "# Load Imdb dataset from Hugging Face\n",
    "dataset = load_dataset(\"Aappo/imdb_subset\")\n",
    "dataset = dataset.shuffle(seed=42)\n",
    "dataset"
   ]
  },
  {
   "cell_type": "markdown",
   "metadata": {},
   "source": [
    "## TODO\n",
    "\n",
    "Check that you understand what the dataset contains. Hint: Dataset is a dictionary, so check the content with `dataset[\"test\"]` etc."
   ]
  },
  {
   "cell_type": "markdown",
   "metadata": {},
   "source": [
    "## Try Azure OpenAI model deployment\n",
    "\n",
    "Next we'll try out a model that is deployed behind an Azure OpenAI API endpoint. The model is an instruct finetuned GPT-3.5 Turbo model and we call it here by using the Python SDK."
   ]
  },
  {
   "cell_type": "code",
   "execution_count": 10,
   "metadata": {},
   "outputs": [
    {
     "name": "stdout",
     "output_type": "stream",
     "text": [
      "Prompt: Write a tagline for an consulting company excelling in using LLMs. \n",
      "Response: \n",
      "\n",
      "\"Achieving Excellence through Advanced LLM Solutions\"\n"
     ]
    }
   ],
   "source": [
    "api_key = \"api-key\" # TODO: change this to the Azure OpenAI API key\n",
    "\n",
    "deployment_name=\"gpt-35-turbo-instruct\"\n",
    "\n",
    "client = AzureOpenAI(\n",
    "    api_key=api_key,  \n",
    "    api_version=\"2023-03-15-preview\",\n",
    "    azure_endpoint = f\"https://learning-sprint-openai.openai.azure.com/openai/deployments/{deployment_name}/completions?api-version=2023-03-15-preview\"\n",
    "    )\n",
    "    \n",
    "\n",
    "prompt = 'Write a tagline for an consulting company excelling in using LLMs. '\n",
    "response = client.completions.create(model=deployment_name, prompt=prompt, max_tokens=20)\n",
    "\n",
    "print(f\"Prompt: {prompt}\")\n",
    "print(f\"Response: {response.choices[0].text}\")"
   ]
  },
  {
   "cell_type": "markdown",
   "metadata": {},
   "source": [
    "## Classification through prompting\n",
    "\n",
    "Let's see how well the GPT-3.5 model is able to do simple text classification when prompted.\n",
    "\n",
    "First let's defined two auxiliary functions. First one generates the prompt when given a text:\n",
    "\n",
    "`\"Task: Classify text into negative or positive classes. Text: Some example text with positive sentiment\".`\n",
    "\n",
    "The second one encodes the model output into integers that correspond to the dataset labels, i.e. `0 = negative sentiment` and `1 = positive sentiment`."
   ]
  },
  {
   "cell_type": "code",
   "execution_count": 52,
   "metadata": {},
   "outputs": [],
   "source": [
    "def prompt(text, classes=[\"negative\",\"positive\"]):\n",
    "    if len(classes)>2:\n",
    "        return \"Task: Classify the text into \" + \", \".join(classes[:-1]) + f\" or {classes[-1]} classes. Text: {text}\"\n",
    "    elif len(classes)==2:\n",
    "        return f\"Task: Classify the text into {classes[0]} or {classes[1]} classes. Text: {text} \"\n",
    "\n",
    "def encode_response(response, classes=[\"negative\",\"positive\"]):\n",
    "    response_string = response.choices[0].text.lower()\n",
    "    matches = [c in response_string for c in classes]\n",
    "    if sum(matches) != 1:\n",
    "        print(f\"Invalid response: {response_string}\")\n",
    "        return -1\n",
    "    return matches.index(True)\n"
   ]
  },
  {
   "cell_type": "markdown",
   "metadata": {},
   "source": [
    "## TODO \n",
    "\n",
    "Make sure you understand the above functions."
   ]
  },
  {
   "cell_type": "markdown",
   "metadata": {},
   "source": [
    "## Classification accuracy\n"
   ]
  },
  {
   "cell_type": "code",
   "execution_count": 56,
   "metadata": {},
   "outputs": [
    {
     "name": "stdout",
     "output_type": "stream",
     "text": [
      "\n",
      "text: After a very long time Marathi cinema has come with some good movie.This movie is one of the best Marathi movies ever made. It shows how a old grandfather tries to save his grandsons eye. He tries everything that is possible in his hands to save the child's eye. Doctor and a relative of his tries to help him in his attempt.<br /><br />The acting by the grandfather, the boy and the doctor are simply superb. They have shown true picture of a typical Marathi life. Every bit of action has some meaning in it. I would recommend to watch this movie, as initially I thought this one would be of documentary type but this was above my expectations.<br /><br />This film is really going to touch your hearts.I would expect more Marathi movies to come up with performances like this.\n",
      "true_label 1\n",
      "response 1\n",
      "\n",
      "text: \"In Love and War\" is a simple feel-good TV-film, and should be viewed as such.<br /><br />(Possible spoiler)<br /><br />It is the story of a WWII British soldier, Newby, captured with his commando by the Italians and imprisoned in a former orphanage. As the Italians surrender to the Allies, the commando is freed, and attempts to flee. However, the Germans arrive and the commando is captured again. Only Newby, injured, remains at large. The rest of the film recounts how he is hidden and protected by the Partisans, and his survival.<br /><br />(End of spoiler)<br /><br />Based on a true story, \"In Love and War\" is a refreshingly straightforward film. Half comedy, half romance, the story is simple and unambiguous. The 'atmosfera' is warm and sunny, and the various stereotypes (the desperately unorganized or romantic Italians, the serious stern-looking Germans and the phlegmatic and pragmatic British), although unoriginal, are still humorous. Nicola Piovani's musical score also adds to the Mediterranean flavour.<br /><br />Although it is far from being a \"Tea With Mussolini\" or a \"La Vita E Bella\", \"In Love and War\" is a sweet simple film that will put a smile, and maybe even a little tan, on your face.\n",
      "true_label 1\n",
      "response 1\n",
      "\n",
      "text: I was expecting a lot more of this film than what I actually got. The acting was just awful from everyone and the story was far from impressive. It took a lot of something I don't to even follow what was going because it was so jumpy. An example of the acting is when Paxton's character, Vann, is upset the South Vietnamese colonel for so he throws some of the sand from the \"sand map\". It was impossible to get any idea of what he was feeling and his actions were robotic. To make things worse, I have no idea how I'm supposed to feel about Vann. He's obviously presented as the protagonist but as soon as he gets to Vietnam he starts an affair with an Vietnamese English teacher. The only thing the movie had going for it was that it wasn't particularly boring. I give it 4 stars out of 10.\n",
      "true_label 0\n",
      "response 0\n",
      "\n",
      "text: A not so good action thriller because it unsuccessfully trends the same water as early Steven Seagal films because there is not a very good set piece. Steven Seagal plays the same kind of character that he has played since Above the Law. In my opinion the performance of Keenen Ivory Wayans is wasted in such an average film and belongs in a much better film. Bob Gunton is okay as the main heavy. The best acting in the entire film belongs to Brian Cox who is very frightening in the role of the murderer. My favorite scenes are the fight scenes with the Russian mafia. One of the film reasons to see The Glimmer Man(1996) is for the brief appearence of the beautiful and voluptupus Nikki Cox. Its too bad that there were not more scenes with her in them.\n",
      "true_label 0\n",
      "response 0\n",
      "\n",
      "text: This is about some vampires (who can run around out in the sunlight), that are causing some problems down in South America. Casper Van Dien is sent in with his team of commandos to investigate. The movie opens with Van Dien & Co. walking through the jungle, and there's this huge black guy who just absolutely, positively cannot act. He speaks all his lines as if he's reading them off the cue-cards for the very first time. His voice is also so low that, well, it's positively hilarious. Great way to get the movie started! Anyhow, they run into some of our vampires, shoot them (this causes them to appear to die for about 20 seconds), and then of course they come back to life. Van Dien notices that one of them was impaled across a tree limb, and yells to his buddies to kill them with wood. The stunt work must be seen to be believed - the vampires are on wires that pull them up trees, which is supposed to make them look like they can climb really easily, but it just makes them look like they're bouncing around on bungee cords or something.<br /><br />Yeah...anyhow, later on, the huge black dude is down in South America with some guys (Van Dien not included), and they're attacked by more vampires. It's really too bad these guys never heard of a crossbow, because it would seem to be the perfect weapon to kill the little bloodsuckers with, but instead they use big old wooden stakes that they try to impale the vampires with by hand. The big black dude ends up getting captured and he eventually becomes some big powerful vampire leader. Van Dien ends up battling him later on. It doesn't help that all through the movie, everyone forgets that if you shoot a vampire, they are knocked out for 20 seconds or so, which would enable a person to stick a stake in them fairly easily. They just try to stick stakes in them in the middle of hand-to-hand combat. Yeah, not exactly brilliant tactics.<br /><br />There's a hot babe (remember Veronica from The Lost World TV show? Yes, it's her!) who also happens to be walking around in the middle of Vampire County on some sort of research mission, and she also just happens to be Van Dien's ex-wife. Hey, what are the odds? It's a shame she's not in the movie a whole lot more than she is. Will her and Casper get back together in the end? Will Van Dien defeat the huge black dude who can't act? Will the circus performer vampires make you laugh through all the numerous action scenes? Will we hear the three stooges music when somebody does something funny? Has even Lynda Carter forgotten how to act in her small cameo (she's more convincing in her Sleep Number Bed commercials)? These questions and more will will be answered if you make it all the way to the end of the movie.<br /><br />I don't know, it might score some points on the so bad it's good scale, but that's about it. Eh, it's a bunch of goofs running around in the jungle, I guess it's kind of entertaining.\n",
      "true_label 0\n",
      "response 0\n",
      "\n",
      "text: It could be easy to complain about the quality of this movie (you don't have to throw cartloads of money at a movie to make it good, nor will it guarantee that it is worth watching) but I think that is totally missing the point. If your expecting fast cars, T&A or a movie that will spell itself out for you then don't watch this, you'll be disappointed and dumbfounded.<br /><br />This movie was thoroughly enjoyable, kept us on the edge of our seats and made us really think. The writer obviously put a lot of thought and research behind this movie and it shows through the end, just remember to keep an open mind.<br /><br />Note: the school scenes were all filmed at McMaster University and most of the rest was done in Toronto.\n",
      "true_label 1\n",
      "response 0\n",
      "\n",
      "text: Absolute grabber of a movie, and given its age, years ahead of its time. I first saw this the week my dad came home with a neighbor's TV, that the guy had thrown on the scrap heap. A tinkerer with all things electrical, dad had it working inside two days. This was July 1955...and then probably only the third house in the street to HAVE television! Pretty much the first thing we ever saw on that grainy and flickering old 12-inch screen was THIS film. \"It's pretty OLD dear,\" I recall my mom telling me!<br /><br />Almost 50 years on, and it doesn't seem any older - rather like World War I in that respect! Terrific little fantasy about a London omnibus carrying thirteen passengers, that crashes, killing one of their number. Then, in flashback we pick up on the lives of these people and what brought them to being on this bus that very day.<br /><br />Returning to the crash at the end of the film, the victim's identity is revealed, perhaps the inspiration behind the 1960 movie THE LIST OF ADRIAN MESSENGER.<br /><br />If ever you come across this little gem, I suggest you watch it!\n",
      "true_label 1\n",
      "response 1\n",
      "\n",
      "text: I have done a lot of international travel, both on business and as a tourist. For both types I assure you the best advice is also the oldest: Always drink the wine of the country. In this movie the archangel Michael comes to Earth on business, wraps it up quickly and decides to hang around for a little touring. Boy! Does he \"drink the wine of the country.\"<br /><br />Could man be drunk forever with liquor, love and fights <br /><br />He'd lief rise up of mornings and lief lie down of nights.<br /><br />These are things you can't do in Heaven so he enjoys them while he's here! Of course it turns out he had a couple of other jobs to tackle and, if he is less direct about them than he was about the first one, he is just as successful. The final scene is a little schmaltzy but it is also wonderful. Jean Stapleton gets to dance with John Travolta.\n",
      "true_label 1\n",
      "response 1\n",
      "\n",
      "text: Late night on BBC1, was on my way to bed but curiosity piqued at a contemporary-set Irish film so I stayed to watch for a few minutes and then stayed to the end. I have to admit that the main attraction was the only English actress, Kelly Reilly, who is stunning to look at.<br /><br />This is billed as a black comedy, which is one of the hardest things to pull off. It should be the perfect blend of horror and horrible laughs so that in the end you don't know why you're laughing - for me Martin Scorsese's After Hours (1985) is the best example. Dead Bodies is more black than comedy but the plot rattles along and spirals down towards further blackness. I didn't spot the final twists in the tale as some other posters here did so I was suitably surprised.<br /><br />As a snapshot of the Irish film industry in 2003, it all seems rather worthy; it doesn't look like they spent too much on the making of it so it had a chance to make its money back. The script could've been a whole lot sharper but the acting was on the whole pretty good. I'm glad I watched it, flaws and all, tho I don't think I learnt much about Ireland today, especially their policing methods!\n",
      "true_label 1\n",
      "response 1\n",
      "\n",
      "text: A holiday on a boat, a married couple, an angry waiter and a shipwreck is the reason to this films beginning.<br /><br />I like boobs. No question about that. But when the main character allies with whoever happens to have the most fish at the moment, mostly by having sex with them and playing the role of the constant victim, my anger just rises to a whole new level. Take two guys (a husband and another man), put a pure bombshell woman in the middle of them, ad a deserted island, subtract all her moral issues, ad a whole bunch of moral issues to the men and mix it in a big bowl of arguments, fish and a zippo lighter and you will come up with a piece of junk movie like this. <br /><br />The acting is, I would say, good. There are some bloopers but not many as far as i could see. The main female character makes me sick. This is due to her lack of moral values. The man with the most fish get's her attention. Even though one of them is her husband, she sees no problem with being unfaithful with (Manuel) the other man because \"I must do it to survive\". How can you justify having sex with another man for fish when your husband is 30feet away? And he won't even benefit from it? The female character has absolutely no problems to justify anything that she does. If she doesen't get approval for her actions, she's a victim.<br /><br />I recommend everyone to see this movie. This is the kind of movie that will make just about everything else you see this year a pleasant movie experience.\n",
      "true_label 0\n",
      "response 0\n",
      "\n",
      "text: As everyone knows, nobody can play Scarlett O'Hara like Vivien Leigh, and nobody can play Rhett Butler like Clark Gable. All others pale in comparison, and Timothy Dalton and Joanne Whalley are no exceptions. One thing that I really couldn't get past was that Joanne has BROWN eyes. The green eyes were the most enhancing feature of Scarlett's good looks, and in this sequel she has been stripped of those.<br /><br />The movie, as well as the book, had several lulls in it. The new characters weren't all that memorable, and I found myself forgetting who was who. I felt as though her going to Ireland did absolutely nothing whatsoever. It could be that I'm only 11, but I saw no change in her attitude until the last say, 10 minutes when Rhett told her she had grown up. If Rhett hadn't told her that, I would have never guessed that there was any change in her attitude. She really loved Cat, her baby. She likes this child best because she had it with Rhett, her only loved husband. Still, if you've read Gone With The Wind, you would see that children make no difference in Scarlett's world. <br /><br />Quite frankly, it seemed to me like there was way too much going on without Rhett. All anybody cares about is whether or not Rhett and Scarlett get back together, and Scarlett took way too long to get to that. It is virtually nothing compared to Gone With The Wind, but then again what isn't? If you have read the novel, you will like that better than the movie.<br /><br />I would watch it, just because it is the sequel to Gone With The Wind, regardless of whether or not it's worthwhile. It may not satisfy you entirely, but it will get you some of the way there.\n",
      "true_label 0\n",
      "response 0\n",
      "\n",
      "text: This is just one of those films which cannot justify much of anything that happens. These people are going on a trek: the young girl wants to photograph animals. There really are no Piranhas, but I guess the psychotic hunter guy is the real piranha. Anyway, there are lots of animals and there is lots of driving. There is considerable anti-gun talk, but we all know where that is going. Toward the end, there's lots of action and a rape thrown in. Somebody must pay, and they do. It would have been nice to have a couple of piranhas to sort of fill the thing out. There were lots of monkeys. If you fast forward through the dull parts, you have a tight little five minutes.\n",
      "true_label 0\n",
      "response 0\n",
      "\n",
      "text: This film is bad. It's filled with glaring plot holes, characters who are ruled by stupidity, bad acting and above all, a poor script which has been done before in many, many films, only better. I feel sorry for Donald Sutherland, I just hope he had to do this film rather than wanted to! Miss it.\n",
      "true_label 0\n",
      "response 0\n",
      "\n",
      "text: I was so happy to learn that Hari Om will finally be theatrically released in 2007. I saw this film three years ago at the Vancouver International film Festival and have been waiting for it's release ever since so I could send everyone I know to see it. It's like taking a trip to India....colorful, magical, thought provoking. Aside from one rather strange Hollywood style auto rickshaw chase scene this movie is very realistic. This is not a Bollywood style song and dance movie but it does have drama and romance and humor. The interactions between the Indian taxi driver and the french tourist are a good reflection on the fundamental differences between Eastern and Western life styles and philosophy. The characters are a little broadly drawn but the acting was very good. Visually this movie is a treat as you really do get a sense of what driving through Rajasthan is like...dreamlike. Sometimes it's hard to believe everything you are seeing and experiencing is real...the movie has that same quality. Great soundtrack too!\n",
      "true_label 1\n",
      "response 1\n",
      "\n",
      "text: Definitely a movie for people who ask only to be entertained and who do not over-think their movies. <br /><br />Lots of action, lots of great dialogue (e.g. fun to quote), a little intrigue, and stuff blowing up all over the place. Samuel L Jackson and Geena Davis had great chemistry. Violent, but not gory. The fact that the female part was the competent action lead is a pleasant turn-about.<br /><br />Have seen the movie more than a dozen times and still enjoy it enough to put it back in my favorite films rotation every 3 or 4 months. I initially rented the movie because Samuel L Jackson was in the film, but was caught up in the events surrounding Samantha's quest to regain her memory and have never looked back.<br /><br />All you cerebral folks out there -- suspend disbelief for once, take yourself a little less seriously -- you might actually enjoy yourselves!\n",
      "true_label 1\n",
      "response 1\n",
      "\n",
      "text: Don't pay any attention to the rave reviews of this film here. It is the worst Van Damme film and one of the worst of any sort I have ever seen. It would appeal to somebody with no depth whatever who requires nothing more than gunfire and explosions to be entertained.<br /><br />Seeing that this is directed by Peter Hyams it has made me realise that Peter has no talent as a director, but is very good at filming explosions and the like. However, movies need other elements as well; for example, a story. This one didn't have one. This might explain the awfulness of some of Mr. Hyams' more recent films, hardly any better than this one, really.<br /><br />One can't help wondering how some people ever were put behind a camera.\n",
      "true_label 0\n",
      "response 0\n",
      "\n",
      "text: This movie spends most of its time preaching that it is the script that makes the movie, but apparently there was no script when they shot this waste of time! The trailer makes this out to be a comedy, but the film can't decide if it wants to be a comedy, a drama, a romance or an action film. Press releases indicated that Shatner and Hamlin made this movie because they loved the script (what were they thinking?). If you like William Shatner (I do) see \"Free Enterprise\" instead.\n",
      "true_label 0\n",
      "response 0\n",
      "\n",
      "text: A very sensitive topic--15 y/o girl abandoned by mother as a baby and who goes to visit her, continues to be ignored, is raped by her mom's boyfriend, becomes pregnant. There was not enough depth displayed of this situation. Too much of time is taken up on the chase with the truckers transporting the baby. (Interesting, this baby with asthma--you never see him cry-- except once--, be fed, have is diaper changed during the whole truck transport ordeal.) I would have liked to have seen more of the interrelationships, more focus on the fact that this girl was a minor--this should have stood up in court immediately.<br /><br />And this was a true story! It deserved a better telling than that!!<br /><br />If it weren't for the subject matter, I would have given this closer to a 0 rating. I rented this from the library. Only later I found out it was a made for TV movie. <br /><br />oh well\n",
      "true_label 0\n",
      "response 0\n",
      "\n",
      "text: I absolutely loved this movie. Great, realistic looking combat footage for one thing and a touching, genuine story also. The calm, understated manner of the lead character, Franta, makes him very likable. The human relationships in the story seemed so very typical and possible of what you could expect in war time. The bond between Franta and Carel shows the loyalty wartime comrades can have for each other and that is often described in books and interviews with veterans. The subtitles do not detract from the story at all and actually serve to underline the problems the Czech pilots had in the RAF. The postwar storyline is a great reminder that for many the suffering of WW2 did not end in 1945, especially in Russian occupied countries. The cinematography was also very good. Wish I could have seen it on the big screen.\n",
      "true_label 1\n",
      "response 1\n",
      "\n",
      "text: The gates of Hell opened up and spit out this film, then closed again.<br /><br />Watching this movie makes me appreciate other movies I have seen, like all other movies. Nothing makes sense in this movie.<br /><br />It would really take too long to mention all the plot problems. In fact, except as a warning, it really isn't worth wasting some of the nearly infinite space available on the internet writing about this film.<br /><br />From now on, I will check IMDb before watching any film.<br /><br />Hot darn, IMDb is forcing me to write more about this film. I guess I should warn you about Edison Force while I am at it. But if you had to chose between the two, pick Edison Force.\n",
      "true_label 0\n",
      "response 0\n",
      "\n",
      "text: \"An astronaut (Michael Emmet) dies while returning from a mission and his body is recovered by the military. The base where the dead astronaut is taken to becomes the scene of a bizarre invasion plan from outer space. Alien embryos inside the dead astronaut resurrect the corpse and begin a terrifying assault on the military staff in the hopes of conquering the world,\" according to the DVD sleeve's synopsis.<br /><br />A Roger Corman \"American International\" production. The man who fell to Earth impregnated, Mr. Emmet (as John Corcoran), does all right. Angela Greene is his pretty conflicted fiancée. And, Ed Nelson (as Dave Randall) is featured as prominently. With a bigger budget, better opening, and a re-write for crisper characterizations, this could have been something approaching classic 1950s science fiction.<br /><br />*** Night of the Blood Beast (1958) Bernard L. Kowalski, Roger Corman ~ Michael Emmet, Angela Greene, Ed Nelson\n",
      "true_label 0\n",
      "response 0\n",
      "\n",
      "text: This was a great movie. Something not only for Black History month but as a reminder of the goodness of people and the statement that it truly does take a village to raise a child. The performances by S Eptath was outstanding. Mos Def and his singing was off the hook. Had to do a double take when I saw that was Rosie Perez there. But the supporting cast of actors and actresses made this worth watching. All the different stories they had was amazing. And how Nanny protected Jr and literally everyone else that was in her presence. I can truly understand her being the matriarch of that time period and even more so how tired she was in helping everyone. Cant wait for it to come out on DVD. It would be a welcome addition to any movie library.\n",
      "true_label 1\n",
      "response 1\n",
      "\n",
      "text: I have always loved old movies but this is one of my top ten favorites...it has all the charm, 1940's quaintness, and good old fashioned romance and it's hilarious, to boot! Barbara Stanwick plays an independent single woman who writes cooking\\home life articles for a famous magazine...under the premise that she is a married homemaker. Even the president of the magazine is under this delusion. Enter a handsome GI, (played by the talented Dennis Morgan)just rescued off of a raft along with his buddy. His simple wish is to stay at the homey Inn the she writes so eloquently about and relax with her famous home-cooked meals. She now has to frantically find a way to save her job and reputation...add to this that her fiancé is in a hurry to tie the knot doesn't help. The humor is superb and the chemistry between the leading characters a lot of fun. Throw in the character-actor nicknamed \"Cuddles\" (who fits this name completely) it becomes even more adorable. This has become my must-see movie that I snuggle in with a cup of cocoa each Christmas season. A wonderful, enjoyable movie to enjoy at Christmastime or anytime!\n",
      "true_label 1\n",
      "response 1\n",
      "\n",
      "text: Coming from Kiarostami, this art-house visual and sound exposition is a surprise. For a director known for his narratives and keen observation of humans, especially children, this excursion into minimalist cinematography begs for questions: Why did he do it? Was it to keep him busy during a vacation at the shore? <br /><br />\"Five, 5 Long Takes\" consists of, you guessed it, five long takes. They are (the title names are my own and the times approximate): <br /><br />\"Driftwood and waves\". The camera stands nearly still looking at a small piece of driftwood as it gets moved around by small waves splashing on a beach. Ten minutes.<br /><br />\"Watching people on the boardwalk\". The camera stands still looking at the ocean horizon and a boardwalk. People walk across the camera frame, their faces too far and blurry to make them interesting. Eleven minutes.<br /><br />\"Six dogs at the water's edge\". The camera stands still looking at the ocean horizon with a sandy stretch of beach nearby. Far away at the water's edge, six dogs not doing much, just relaxing. Sixteen minutes.<br /><br />\"Ducks in line, gaggle of ducks\". The camera stands still looking at the ocean horizon near the water's edge. Dozen and dozen of ducks stream in single file from left to right. I assume that Kiarostami released them gradually. The last two ducks stop dead on their track and suddenly a gaggle of ducks rolls quietly from right to left. I assume Kiarostami collected the ducks and re-released all at the same time. It is not the first time that he deals with the contrast between organized and disorganized behavior. Eight minutes.<br /><br />\"Frog symphony, oops, I mean cacophony, for a stormy night\". The camera stands over a pond at night. It's pitch black except for what appears to be the reflection of the moon on the undulating water. It is a stormy night and clouds race to cover the moon. The screen goes dark. What remains for us is the cacophony of frogs, howling dogs and, eventually, morning roosters. Hit me on the head if this was done in a single take. I saw this segment as a sound composition put together in the editing room and accompanied by a simple visualization. Twenty seven minutes! <br /><br />Except for the mildly amusing ducks, this exercise in minimalism left me cold. A nonessential film for Kiarostami admirers.<br /><br />I thought I would rate \"Five\" a five, but four is what it deserves.<br /><br />The film is dedicated to Yasujiru Ozu.\n",
      "true_label 0\n",
      "response 1\n",
      "\n",
      "text: Not much to say other than plenty of Wire-fu and supposed Sholin monks ego-tripping about Kung-fu and caricature Japanese plotting to take over China. All of this would not be so bad if not for the utterly fake Japanese sword fighting. If you watched a Samurai movie or two you can tell that the \"Japanese\" fighting in the movie is simply the same \"Kung-fu\" (Really circus acrobats) stunt men doing the same things except with a Japanese sword. However, there are a couple of fun moments such as when a Japanese woman Ninja tears off her clothes in mid-flight to disarm a monk and captures him with a fishing net. Storywise, there seems to be a bit of schizophrenia as far as whether the Japanese should be shown as completely despicable or if there could be exceptions. The \"Japanese\" protagonist is shown as largely honourable but not beyond unwarranted cruelty such as when he murders a sedated monk so that he may have his duel. Quite disappointing with a very silly ending. Does not for a moment evoke even the semblance of the idea of an epic battle.\n",
      "true_label 0\n",
      "response 0\n",
      "\n",
      "text: This movie is so bad that it actually gets funny. One of the worst movies I've ever seen in my entire life. The funny thing was that the trailer had scenes in it that wasn't in the movie. Just by watching the trailer I would have saved a lot of my time. It actually showed everything that happened in the movie except for the conclusion and that was also so obvious.<br /><br />It's honestly hard to think of a reason why this movie was made. This is just so bad. Horrible. <br /><br />I would give it 0 out of 10 if that would be possible. There is nothing else to say about this movie.\n",
      "true_label 0\n",
      "response 0\n",
      "\n",
      "text: The story is: a turn-of-the-century troupe of actors, along with producers and theatre-owners, have very complicated relationships. A resident playwright has written a psychological drama. He wants to get a good production on stage, but can't unless he convinces a pariticular reviewer to revisit the production, and give a positive review. If his production does not go on, then the troupe will put on The Doll House, recently written by Ibsen. Many different relationships among the principals are explored; none of them interesting. But the involvement of the characters with one another lead to giving the play by the resident playwrght a second shot.<br /><br />This movie is purely an excuse for the director and his friends to get together and put on a movie. The story lines are incoherent to anyone who isn't a buddy of one of the stars. The only reason I didn't leave the theatre after about a half hour is that a fat lady was resting a full meal atop her stomach at the end of my row.\n",
      "true_label 0\n",
      "response 0\n",
      "\n",
      "text: Well, where to start describing this celluloid debacle? You already know the big fat NADA passing as a plot, so let's jut point out that this is so PC it's offensive. Hard to believe that Frank Oz, the same guy that gave us laugh riots like Little Shop of Horrors and Bowfinger, made this unfunny mess.<br /><br />So, this guy doesn't know he's gay till this actor points it out. OK, sure. If anyone ever says I'm gay, I'll know the truth, even if I currently like girls more than George Luca$ likes a dollar.<br /><br />And how to know the true nature of my sexuality? Well, if I like classic litterature, dancing and Barbra Streisand, I'm gay. If I dress like a blind man in a hurry (with half my shirt hanging out), I'm straight. Oh, sure.<br /><br />And here's the big cliché of clichés: no matter how you look, there's always a very attractive Hollywood actor who'll adore every bit of grease under your skin, or a top model who'll love your zero IQ, your butt-ugly face and your pointing-out ears. If all those gay common places weren't enough to get me angry, this did. In real world looks matter, folks, and I know for sure.<br /><br />I see it coming: now you'll say \"Relax! It's a comedy! Don't take it so seriously!\". If being a comedy gives anything \"carte blanche\" to suck out loud, I think the world has a serious problem. Wouldn't be much better (and funnier) to make a movie to denegate those old tiresome clichés, instead of magnifying them over and over again?<br /><br />So, one of the absolutely worst movies I've ever seen. 1 out of 10. If giving this rating has something to do with my sexual tendence, please let me know. I'm interested.\n",
      "true_label 0\n",
      "response 0\n",
      "\n",
      "text: It's really too bad that nobody knows about this movie. I think if it were just spruced up a little and if it weren't so low-budget, I think one of the major film companies might have wanted to take it. I first saw this movie when I was 11, and I thought it was so powerful with the many great, yet illegal lengths that Mitchell goes to just to keep his family together. It inspired me then and it amazes me now. If you're lucky enough to find a copy of this movie, don't miss it!\n",
      "true_label 1\n",
      "response 1\n",
      "\n",
      "text: I'm 15, usually not kids my age usually watch these old classic movies. But this is one of my favorites. I was totally addicted after watching it for the first time. It's really good if u think about technology and movies back at that time, music is great, storyline is OK,choreography is great, must see it. I don't know why there's a prequel for this movie. Not many people like this movie, but i love classic love movies, they're so much better than movies now! This movie will make you smile, cry and make you start dancing. The music is absolutely ear catching and beautiful. I haven't seen Dirty Dancing 2 Harvana Nights(prequel), prequel should have star the original actors, thats what i hate about prequels, they ruin the original. No one wants a prequel, they want a sequel. Many people will agree that for a movie- the original, sequel and the 3rd one is enough. Beyond that, people wont be bothered to watch it. Who remembers the movie about the St Benard Beethoven? I think there's 5 movies altogether.\n",
      "true_label 1\n",
      "response 1\n",
      "\n",
      "text: I was truly and wonderfully surprised at \"O' Brother, Where Art Thou?\" The video store was out of all the movies I was planning on renting, so then I came across this. I came home and as I watched I became engrossed and found myself laughing out loud. The Coen's have made a magnificiant film again. But I think the first time you watch this movie, you get to know the characters. The second time, now that you know them, you laugh sooo hard it could hurt you. I strongly would reccomend ANYONE seeing this because if you are not, you are truly missing a film gem for the ages. 10/10\n",
      "true_label 1\n",
      "response 1\n",
      "\n",
      "text: This thing, directed by french sensation Patrick Sebastien,is worst than all the turkeys that you may have seen. Forget Independence Day, Kazaam, The patriot, etc... you get the picture, this one's the pits. Sebastien is a TV celebrity in france, (if you need an equivalent, let's say he's Jerry Springer with an I.Q of 13), this is his first movie let's hope it's the last. I hope Troma or someone would distribute this film in the States, so that you guys out there can excperience the French stench at it's worst. Let's cut this short, this is the Masterpiece of S**t.\n",
      "true_label 0\n",
      "response 0\n",
      "\n",
      "text: Intended as light entertainment, this film is indeed successful as such during its first half, but then succumbs to a rapidly foundering script that drops it down. Harry (Judd Nelson), a \"reformed\" burglar, and Daphne (Gina Gershon), an aspiring actress, are employed as live window mannequins at a department store where one evening they are late in leaving and are locked within, whereupon they witness, from their less than protective glass observation point, an apparent homicide occurring on the street. The ostensible murderer, Miles Raymond (Nick Mancuso), a local sculptor, returns the following day to observe the mannequins since he realizes that they are the only possible witnesses to the prior night's violent event and, when one of the posing pair \"flinches\", the fun begins. Daphne and Harry report their observations at a local police station, but when the detective taking a crime report remembers Harry's criminal background, he becomes cynical. There are a great many ways in which a film can become hackneyed, and this one manages to utilize most of them, including an obligatory slow motion bedroom scene of passion. A low budget affair shot in Vancouver, even police procedural aspects are displayed by rote. The always capable Gershon tries to make something of her role, but Mancuso is incredibly histrionic, bizarrely so, as he attacks his lines with an obvious loose rein. Although the film sags into nonsense, cinematographer Glen MacPherson prefers to not follow suit, as he sets up with camera and lighting some splendidly realised compositions that a viewer may focus upon while ignoring plot holes and witless dialogue. A well-crafted score, appropriately based upon the action, is contributed by Hal Beckett. The mentioned dialogue is initially somewhat fresh and delivered well in a bantering manner by Nelson and Gershon, but in a subsequent context of flawed continuity and logic, predictability takes over. The direction reflects a lack of original ideas or point of view, and post-production flaws set the work back farther than should be expected for a basic thriller.\n",
      "true_label 0\n",
      "response 0\n",
      "\n",
      "text: If you're a fan of Turkish and Middle Eastern music, you're in great luck. This film is a documentary of current music in Istanbul, spanning the traditional to the modern. It's very good. You could not do better if you went to Istanbul yourself. We get interviews with Orhan Gencebay, concert clips of modern musical icons, a road show with a Romani (Gypsy) audience, Turkish Hip Hop (surprisingly very very good), and much much more. Some of the best female vocalists I've ever heard. A Kurdish woman singing in a hamam (steam bath) who will rip your heart out. Lots of social and political background. If this is your thing, you'll have a grand time. I could barely sit still in the theatre.<br /><br />CD soundtrack now available on amazon. Pricey.\n",
      "true_label 1\n",
      "response 1\n",
      "\n",
      "text: I really liked the movie 'The Emporer's New Groove', but watching this was like coming home and seeing your wife having \"relations\" with a llama. Seriously, this movie was bad. It's like Club Dread after Super Troopers. I am supposed to write 10 lines, but I don't even know what else to say. I laughed a couple of times, but only because I was drinking. A movie like that should at least be funny when your drunk. It was not. Maybe llamas are just funny and regular cartoon people aren't. Either way, just stick with The Emporer's New Groove if you want a funny, cartoon, llama-themed movie. Line 10 is this line right here.\n",
      "true_label 0\n",
      "response 0\n",
      "\n",
      "text: This is a really sad, and touching movie! It deals with the subject of child abuse. It's really sad, but mostly a true story, because it happens everyday. Elijah Wood and Joseph Mazzello play the two children or Lorraine Bracco, a single mother who just tries to make a home for them. While living with her parents, a man, who likes to be called \"The King\" comes into their life. He hits the youngest boy, Bobby, but the two brothers vow not to tell their mother. But finally she finds out, after the Bobby is hurt badly. The end kind of ruined it for me, because it is so totally unbelievable. But, except for that, I love the movie.\n",
      "true_label 1\n",
      "response 0\n",
      "\n",
      "text: OK, it was a \"risky\" move to rent this flick, but I thought I had nothing to lose.Well, I was wrong. This is, next to \"Bloodsurf\", the worst \"horrormovie\" I have ever seen. Crappy actors, crappy technical output, crappy story and so on. The soundtrack though, isn't to bad. That is why I give it a 2 on the vote and not just a 1. And of course the cats are a positive surprise. By far the superior actors in this movie..... Do not rent or buy it. Stay away from it and hope that this horrible, horrible film will vanish to some obscure existence and not become a \"cult classic\". It most definitely do not deserve any recognition.\n",
      "true_label 0\n",
      "response 0\n",
      "\n",
      "text: In the early 00's, production companies had a short-lived craze for supernatural genre movies in France after \"The Crimson Rivers\" and \"Brotherhood of the Wolf\" turned out to be hits, so several movies were green-lit or saved from their \"direct-to-video\" fate. However, France, as opposed to the US, UK or Italy, has little tradition of fantasy B-movies and it turned out quickly that \"Samouraïs\", \"Bloody Mallory\" or the \"Crimson Rivers\" sequel were ill-advised attempts at recreating a kind of magic that had never existed in French cinema in the first place. As they flopped, producers have gone back to their usual fare: derivative farces or the umpteenth self-referential tribute to French New Wave by a former critic from \"Les Cahiers du cinéma\".<br /><br />\"Brocéliande\" could only have been green-lit during this short window, as it serves no other discernible purpose. It's your by-the-book slasher movie mixed with vague mythological element and horror references and you'll find bimboesque female characters, a French University looking like a US campus and plot twists so lazy you don't even care because you had guessed it by yourself an hour before, even before the movie started.<br /><br />These elements make all the fun of a 70's or a 80's B-movie and you expect them in a 70's or 80's movie. However, we're not in the 80's anymore and nobody warned director Doug Headline, as this tribute to the slasher movie genre is nothing more than a derivative slasher movie. Headline himself is no rookie and has been writing as a critic about this kind of pictures since the early 80's but as a first time director he shows a lack of skill and ambition that makes \"Brocéliande\" a bore.<br /><br />When you put together clichés from a movie subcategory and hand them to a skilled and inventive director such as Wes Craven or Quentin Tarantino, you get a \"Scream\" or a \"Death Proof\", movies that are imitations from old guilty pleasures but also magnify these clichés and add a great deal to them. That's called \"talent\" and that's why you can't confuse these recent movies with their original inspirations shot decades ago.<br /><br />\"Brocéliande\" takes the lazy path and only reproduces the worst elements from past movies (unfortunately for the male viewer, the gratuitous nudity is mostly missing). There are very strong similarities (presumably unintentional) between the plot of \"Brocéliande\" and the reviled \"Halloween 3: Season Of The Witch\", as both deal with supernatural Druidic evil rituals and some silly attempt at taking over the world on Halloween night. As even the plot of \"Halloween 3\" makes more sense than this one, it means that something seriously wrong went with \"Brocéliande\".\n",
      "true_label 0\n",
      "response 0\n",
      "\n",
      "text: If Hollywood had the wellbeing of the audience at heart we would see 20 films a year with the kind of wholesome fortitude that is behind this film. There are several experiences of personal growth in this movie and while the characters ARE still very human even the lessons learned are not that greed will profit you, or do-unto-others-whatever-you-want-as-long-as-you-are-okay-with-it, no, this is what our sad, desensitized lives need, more sense... more love... more do-unto-others-as-you-would-have-done-unto-you... more HOPE. (thanks Ursula!) This movie has an intelligent wit, not \"yo' mama\" cracks that run rampant in the so-called comedies. People need to feel good. This movie will make you feel good and possibly inspire you to better your life, and the lives of others. sidenote Every person counts in ticket sales. This is a truly independent film. If you want more quality films you have to support them.\n",
      "true_label 1\n",
      "response 1\n",
      "\n",
      "text: I recently rented this video after seeing \"Final Ascent\" by the same writer. I wasn't prepared for how intense this film would get. I found it engaging from start to finish, and was rooting for the teenagers to get away with their attempted crime. The ending was definitely disturbing with some of its implied violence, but well-done. I highly recommend this picture.\n",
      "true_label 1\n",
      "response 1\n",
      "\n",
      "text: <br /><br />When I unsuspectedly rented A Thousand Acres, I thought I was in for an entertaining King Lear story and of course Michelle Pfeiffer was in it, so what could go wrong?<br /><br />Very quickly, however, I realized that this story was about A Thousand Other Things besides just Acres. I started crying and couldn't stop until long after the movie ended. Thank you Jane, Laura and Jocelyn, for bringing us such a wonderfully subtle and compassionate movie! Thank you cast, for being involved and portraying the characters with such depth and gentleness!<br /><br />I recognized the Angry sister; the Runaway sister and the sister in Denial. I recognized the Abusive Husband and why he was there and then the Father, oh oh the Father... all superbly played. I also recognized myself and this movie was an eye-opener, a relief, a chance to face my OWN truth and finally doing something about it. I truly hope A Thousand Acres has had the same effect on some others out there.<br /><br />Since I didn't understand why the cover said the film was about sisters fighting over land -they weren't fighting each other at all- I watched it a second time. Then I was able to see that if one hadn't lived a similar story, one would easily miss the overwhelming undercurrent of dread and fear and the deep bond between the sisters that runs through it all. That is exactly the reason why people in general often overlook the truth about their neighbors for instance.<br /><br />But yet another reason why this movie is so perfect!<br /><br />I don't give a rat's ass (pardon my French) about to what extend the King Lear story is followed. All I know is that I can honestly say: this movie has changed my life.<br /><br />Keep up the good work guys, you CAN and DO make a difference.<br /><br />\n",
      "true_label 1\n",
      "response 1\n",
      "\n",
      "text: These days, writers, directors and producers are relying more and more on the \"surprise\" ending. The old art of bringing a movie to closure, taking all of the information we have learned through out the movie and bringing it to a nice complete ending, has been lost. Now what we have is a movie that, no matter how complex, detailed, or frivolous, can be wrapped up in 5 minutes. It was all in his/her head. That explanation is the director's safety net. If all else fails, or if the writing wasn't that good, or if we ran out of money to complete the movie, we can always say \"it was all in his/her head\" and end the movie that way. The audience will buy it because, well, none of us are psychologists, and none of us are suffering from schizophrenia (not that we know about) so we take the story and believe it. After all, the mind is a powerful thing. Some movies have pulled it off. But those movies are the reason why we are getting more and more of these crap endings. Every director/writer now thinks they can pull it off because, well, Fight Club did it and it made a lot of money. So we get movies like The Machinist, Secret Window, Identity, and this movie (just to name a few).\n",
      "true_label 0\n",
      "response 0\n",
      "\n",
      "text: Dirty Harry goes to Atlanta is what Burt called this fantastic, first-rate detective thriller that borrows some of its plot from the venerable Dana Andrews movie \"Laura.\" Not only does Burt Reynolds star in this superb saga but he also helmed it and he doesn't make a single mistake either staging the action or with his casting of characters. Not a bad performance in the movie and Reynolds does an outstanding job of directing it. Henry Silva is truly icy as a hit-man.<br /><br />Detective Tom Sharky (Burt Reynolds) is on a narcotics case in underground Atlanta when everything goes wrong. He winds up chasing a suspect and shooting it out with the gunman on a bus. During the melee, an innocent bystander dies. John Woo's \"The Killer\" replicates this scene. Anyway, the Atlanta Police Department busts Burt down to Vice and he takes orders from a new boss, Frisco (Charles Durning of \"Oh, Brother, Where Art Thou?\") in the basement. Sharky winds up in a real cesspool of crime. Sharky and his fellow detectives Arch (Bernie Casey) and Papa (Brian Keith) set up surveillance on a high-priced call girl Dominoe (Rachel Ward of \"After Dark, My Sweet\")who has a luxurious apartment that she shares with another girl.<br /><br />Dominoe is seeing a local politician Hotchkins (Earl Holliman of \"Police Woman\") on the side who is campaigning for governor but the chief villain, Victor (Vittorio Gassman of \"The Dirty Game\") wants him to end the affair. Hotchkins is reluctant to accommodate Victor, so Victor has cocaine snorting Billy Score (Henry Silva of \"Wipeout\")terminate Dominoe. Billy blasts a hole the size of a twelve inch pizza in the door of Dominoe's apartment and kills her.<br /><br />Sharky has done the unthinkable. During the surveillance, he has grown fond of Dominoe to the point that he becomes hopelessly infatuated with her. Sharky's mission in life now is to bust Victor, but he learns that Victor has an informant inside the Atlanta Police Department. The plot really heats up when Sharky discovers later that Billy shot the wrong girl and that Dominoe is still alive! Sharky takes her into protective custody and things grow even more complicated. He assembles his \"Machine\" of the title to deal with Victor and his hoods.<br /><br />William Fraker's widescreen lensing of the action is immaculate. Unfortunately, this vastly underrated classic is available only as a full-frame film. Fraker definitely contributes to the atmosphere of the picture, especially during the mutilation scene on the boat when the villain's cut off one of Sharky's fingers. This is a rather gruesome scene.<br /><br />Burt never made a movie that surpassed \"Sharky's Machine.\"\n",
      "true_label 1\n",
      "response 1\n",
      "\n",
      "text: I saw Le Conseguenze Dell'Amore on the 2005 Rotterdam Filmfestival, It was the first of ten films I saw there.<br /><br />Le Conseguenze has left the most powerful impression of the ten films. From the first shot, you know the movie is going to be something special. The beautiful cinematography left me in awe of what can be done with a camera. The music is also on par with the visuals, complementing the colorful and stylish architecture-like images.<br /><br />Toni Servillo plays the main character in the film, Titta. He's a tax expert gone wrong who lives in a hotel. Every week, he brings a suitcase with money to a bank and the story plays around this.<br /><br />He is always very controlled and shows almost no emotion to anyone; Looks calculated and well-dressed. He has a habit of ignoring people who are of no significance to him. For example Sofia (played very nicely by Olivia Magnani), who works as a barmaid in the hotel where he lives. Although she's been working in the hotel for two years, he never greets her, even if she does greet him. On one day she confronts him with this and the next day he sits at the bar, instead of his usual spot at a window. From here the story really begins, and will unfold in a strong tale of love, sacrifice and the mafia.<br /><br />I won't spoil the rest of the film. See this film if you love stylish movies like ones from David Lynch, The Godfather, etc. Don't see this if you're an action-buff.\n",
      "true_label 1\n",
      "response 0\n",
      "\n",
      "text: This movie was so frustrating. Everything seemed energetic and I was totally prepared to have a good time. I at least thought I'd be able to stand it. But, I was wrong. First, the weird looping? It was like watching \"America's Funniest Home Videos\". The damn parents. I hated them so much. The stereo-typical Latino family? I need to speak with the person responsible for this. We need to have a talk. That little girl who was always hanging on someone? I just hated her and had to mention it. Now, the final scene transcends, I must say. It's so gloriously bad and full of badness that it is a movie of its own. What crappy dancing. Horrible and beautiful at once.\n",
      "true_label 0\n",
      "response 0\n",
      "\n",
      "text: Lovely music. Beautiful photography, some of scenes are breathtaking and affecting. But the dramatic tension is lost in a film that is so poorly edited it is hard to know what exactly is going on. At times, the dialogue is incomprehensible. Then there is Richard Gere. He's supposed to be a factory worker who gets into trouble and gets work on a farm. We see dozens of farmhands sweaty and dirty in the hot sun. Then we see Gere, looking like he just wandered away from a Calvin Klein ad. Sam Shepard, another glamour guy, is supposed to be terminally ill. But he looks great. Nice try, but it just doesn't work. Brook Adams try hard but she gets lost in the scenery.The real star is the girl.\n",
      "true_label 0\n",
      "response 0\n",
      "\n",
      "text: Unlike Terms of Endearment and Steel Magnolia's, I left the movie theater feeling VERY disappointed. I started to get into the characters and their complex mother/daughter and father/daughter relationships at the beginning. I even cried. But I had no sympathy for the characters with the ending. The final act did not seem in line with the mother's character at all. So, although the acting was pretty good, I thought the movie on a whole was disappointing.\n",
      "true_label 0\n",
      "response 0\n",
      "\n",
      "text: This is the latest entry in the long series of films with the French agent, O.S.S. 117 (the French answer to James Bond). The series was launched in the early 1950's, and spawned at least eight films (none of which was ever released in the U.S.). 'O.S.S.117:Cairo,Nest Of Spies' is a breezy little comedy that should not...repeat NOT, be taken too seriously. Our protagonist finds himself in the middle of a spy chase in Egypt (with Morroco doing stand in for Egypt) to find out about a long lost friend. What follows is the standard James Bond/Inspector Cloussou kind of antics. Although our man is something of an overt xenophobe,sexist,homophobe, it's treated as pure farce (as I said, don't take it too seriously). Although there is a bit of rough language & cartoon violence, it's basically okay for older kids (ages 12 & up). As previously stated in the subject line, just sit back,pass the popcorn & just enjoy.\n",
      "true_label 1\n",
      "response 0\n",
      "\n",
      "text: Teenager Tamara (Jenna Dewan) has it rough. She's ridiculed by all the popular \"kids\" for being shy, bookish, frumpy and because of her interest in witchcraft. All of the football players and cheerleaders are especially angry at her for writing an article on steroid abuse for the school paper. On top of this, her dad's a drunk, her mom's not around and she's secretly in love with her supportive English teacher (Matthew Marsden). The popular kids set up a cruel prank to humiliate her, accidentally kill her during a struggle, bury the body in the woods and make a pact to keep silent. To their shock, the very next day Tamara walks back into the classroom looking seductive and, uh, dressed to kill. Yep, back from the dead and ready for supernatural revenge against everyone involved. She also takes time out to make her sexually abusive pop eat a beer bottle and tries to seduce her English teacher away from his wife (Claudette Mink), a guidance counselor at the school.<br /><br />Acting and writing are strictly mediocre. You can also tell the people responsible for this have seen such movies as CARRIE (1976), HELLO MARY LOU: PROM NIGHT II (1987) and THE CRAFT (1996) because it borrows wholesale from all three of those superior films. There's some gore (a guy cutting off his ear and tongue and then stabbing his eyeball probably being the best bit), a nasty vomiting scene and a few campy/witty one-liners. Not an awful film by any means, but not much originality went into it either.\n",
      "true_label 0\n",
      "response 0\n",
      "Error: Error code: 400 - {'error': {'message': \"The response was filtered due to the prompt triggering Azure OpenAI's content management policy. Please modify your prompt and retry. To learn more about our content filtering policies please read our documentation: https://go.microsoft.com/fwlink/?linkid=2198766\", 'type': None, 'param': 'prompt', 'code': 'content_filter', 'status': 400}}\n",
      "\n",
      "Accuracy: 0.88\n"
     ]
    }
   ],
   "source": [
    "predicted_labels = []\n",
    "for i in range(dataset[\"test\"].shape[0]):\n",
    "    text = dataset[\"test\"][\"text\"][i]\n",
    "    true_label = dataset[\"test\"][\"label\"][i]\n",
    "    try:\n",
    "        response = client.completions.create(model=deployment_name, prompt=prompt(text), max_tokens=5)\n",
    "        encoded_response = encode_response(response)\n",
    "        print(\"\\ntext:\", text)\n",
    "        print(\"true_label\", true_label)\n",
    "        print(\"response\", encoded_response)\n",
    "    except Exception as e:\n",
    "        print(\"Error:\", e)\n",
    "        encoded_response = -1\n",
    "    predicted_labels.append(encoded_response)\n",
    "\n",
    "print(\"\\nAccuracy:\", accuracy_score(dataset[\"test\"][\"label\"], predicted_labels))"
   ]
  },
  {
   "cell_type": "markdown",
   "metadata": {},
   "source": [
    "### Comparison with fine-tuned model\n",
    "\n",
    "Let's compare the accuracy with the accuracy of a fine-tuned model. HuggingFace has several different models that are fine-tuned to predict the sentiment of Imdb reviews. Select the model `lvwerra/distilbert-imdb` and calculate the model accuracy."
   ]
  },
  {
   "cell_type": "markdown",
   "metadata": {},
   "source": [
    "## TODO\n",
    "\n",
    "Check the model description from HuggingFace. What is the documented accuracy of the model?"
   ]
  },
  {
   "cell_type": "markdown",
   "metadata": {},
   "source": [
    "### Use the transformers pipeline for predictions"
   ]
  },
  {
   "cell_type": "code",
   "execution_count": 57,
   "metadata": {},
   "outputs": [
    {
     "name": "stderr",
     "output_type": "stream",
     "text": [
      "/Users/aappopulkkinen/repos/llm-advanced-prompting-public/venv/lib/python3.12/site-packages/transformers/tokenization_utils_base.py:1601: FutureWarning: `clean_up_tokenization_spaces` was not set. It will be set to `True` by default. This behavior will be depracted in transformers v4.45, and will be then set to `False` by default. For more details check this issue: https://github.com/huggingface/transformers/issues/31884\n",
      "  warnings.warn(\n",
      "Hardware accelerator e.g. GPU is available in the environment, but no `device` argument is passed to the `Pipeline` object. Model will be on CPU.\n"
     ]
    }
   ],
   "source": [
    "pipe = pipeline(\"text-classification\", model=\"lvwerra/distilbert-imdb\")"
   ]
  },
  {
   "cell_type": "code",
   "execution_count": 58,
   "metadata": {},
   "outputs": [
    {
     "name": "stdout",
     "output_type": "stream",
     "text": [
      "Accuracy:  0.9\n"
     ]
    }
   ],
   "source": [
    "predicted_labels_finetuned = pipe([dataset[\"test\"][\"text\"][i][:512] for i in range(dataset[\"test\"].shape[0])])\n",
    "predicted_labels_finetuned_encoded = [1 if item[\"label\"] == \"POSITIVE\" else 0 for item in predicted_labels_finetuned]\n",
    "\n",
    "print(\"Accuracy: \", accuracy_score(dataset[\"test\"][\"label\"], predicted_labels_finetuned_encoded))"
   ]
  },
  {
   "cell_type": "markdown",
   "metadata": {},
   "source": [
    "### TODO\n",
    "\n",
    "1. Does the prompting approach and fine-tuned approach have the same difficulties in determining the sentiment (are the same texts classified incorrectly)?\n",
    "2. Can you improve the prompt somehow so that you could get the faulty classifications by the GPT-3.5 models corrected?"
   ]
  }
 ],
 "metadata": {
  "kernelspec": {
   "display_name": "venv",
   "language": "python",
   "name": "python3"
  },
  "language_info": {
   "codemirror_mode": {
    "name": "ipython",
    "version": 3
   },
   "file_extension": ".py",
   "mimetype": "text/x-python",
   "name": "python",
   "nbconvert_exporter": "python",
   "pygments_lexer": "ipython3",
   "version": "3.12.2"
  }
 },
 "nbformat": 4,
 "nbformat_minor": 2
}
